{
 "cells": [
  {
   "cell_type": "markdown",
   "metadata": {
    "slideshow": {
     "slide_type": "slide"
    }
   },
   "source": [
    "<img src=\"logo_skmob.png\" align=\"left\" width=\"350\">\n",
    "\n",
    "# Privacy\n",
    "\n",
    "- Repo: [http://bit.ly/skmob_repo](http://bit.ly/skmob_repo)\n",
    "- Docs: [http://bit.ly/skmob_doc](http://bit.ly/skmob_doc)\n",
    "- Paper: [http://bit.ly/skmob_paper](http://bit.ly/skmob_paper)"
   ]
  },
  {
   "cell_type": "markdown",
   "metadata": {
    "pycharm": {},
    "slideshow": {
     "slide_type": "-"
    }
   },
   "source": [
    "# **Privacy Risk Assessment**\n",
    "\n",
    "Simulate privacy attacks and assess risk with a worst-case scenario framework"
   ]
  },
  {
   "cell_type": "markdown",
   "metadata": {
    "slideshow": {
     "slide_type": "slide"
    }
   },
   "source": [
    "First, we import the necessary modules"
   ]
  },
  {
   "cell_type": "code",
   "execution_count": 1,
   "metadata": {
    "pycharm": {},
    "slideshow": {
     "slide_type": "-"
    }
   },
   "outputs": [],
   "source": [
    "from skmob.core.trajectorydataframe import TrajDataFrame\n",
    "from skmob.privacy import attacks\n",
    "import pandas as pd"
   ]
  },
  {
   "cell_type": "markdown",
   "metadata": {
    "pycharm": {},
    "slideshow": {
     "slide_type": "fragment"
    }
   },
   "source": [
    "We will use a subset of the **Geolife** dataset for demonstration. The whole dataset is [here](https://www.microsoft.com/en-us/download/details.aspx?id=52367)"
   ]
  },
  {
   "cell_type": "code",
   "execution_count": 2,
   "metadata": {
    "pycharm": {},
    "slideshow": {
     "slide_type": "-"
    }
   },
   "outputs": [
    {
     "ename": "FileNotFoundError",
     "evalue": "File b'./data/geolife.csv' does not exist",
     "output_type": "error",
     "traceback": [
      "\u001b[0;31m---------------------------------------------------------------------------\u001b[0m",
      "\u001b[0;31mFileNotFoundError\u001b[0m                         Traceback (most recent call last)",
      "\u001b[0;32m<ipython-input-2-21dce7ab799a>\u001b[0m in \u001b[0;36m<module>\u001b[0;34m\u001b[0m\n\u001b[1;32m      1\u001b[0m trjs = TrajDataFrame.from_file(\n\u001b[0;32m----> 2\u001b[0;31m     './data/geolife.csv', sep=',')\n\u001b[0m",
      "\u001b[0;32m/data2/scikit-mobility-library/skmob/core/trajectorydataframe.py\u001b[0m in \u001b[0;36mfrom_file\u001b[0;34m(cls, filename, latitude, longitude, datetime, user_id, trajectory_id, usecols, header, timestamp, crs, sep, parameters)\u001b[0m\n\u001b[1;32m     98\u001b[0m                   usecols=None, header='infer', timestamp=False, crs=constants.DEFAULT_CRS, sep=\"\\t\", parameters=None):\n\u001b[1;32m     99\u001b[0m \u001b[0;34m\u001b[0m\u001b[0m\n\u001b[0;32m--> 100\u001b[0;31m         \u001b[0mdf\u001b[0m \u001b[0;34m=\u001b[0m \u001b[0mpd\u001b[0m\u001b[0;34m.\u001b[0m\u001b[0mread_csv\u001b[0m\u001b[0;34m(\u001b[0m\u001b[0mfilename\u001b[0m\u001b[0;34m,\u001b[0m \u001b[0msep\u001b[0m\u001b[0;34m=\u001b[0m\u001b[0msep\u001b[0m\u001b[0;34m,\u001b[0m \u001b[0mheader\u001b[0m\u001b[0;34m=\u001b[0m\u001b[0mheader\u001b[0m\u001b[0;34m,\u001b[0m \u001b[0musecols\u001b[0m\u001b[0;34m=\u001b[0m\u001b[0musecols\u001b[0m\u001b[0;34m)\u001b[0m\u001b[0;34m\u001b[0m\u001b[0m\n\u001b[0m\u001b[1;32m    101\u001b[0m \u001b[0;34m\u001b[0m\u001b[0m\n\u001b[1;32m    102\u001b[0m         \u001b[0;32mif\u001b[0m \u001b[0mparameters\u001b[0m \u001b[0;32mis\u001b[0m \u001b[0;32mNone\u001b[0m\u001b[0;34m:\u001b[0m\u001b[0;34m\u001b[0m\u001b[0m\n",
      "\u001b[0;32m/data2/scikit-mobility-library/skmob_dev/lib/python3.5/site-packages/pandas-0.23.4-py3.5-linux-x86_64.egg/pandas/io/parsers.py\u001b[0m in \u001b[0;36mparser_f\u001b[0;34m(filepath_or_buffer, sep, delimiter, header, names, index_col, usecols, squeeze, prefix, mangle_dupe_cols, dtype, engine, converters, true_values, false_values, skipinitialspace, skiprows, nrows, na_values, keep_default_na, na_filter, verbose, skip_blank_lines, parse_dates, infer_datetime_format, keep_date_col, date_parser, dayfirst, iterator, chunksize, compression, thousands, decimal, lineterminator, quotechar, quoting, escapechar, comment, encoding, dialect, tupleize_cols, error_bad_lines, warn_bad_lines, skipfooter, doublequote, delim_whitespace, low_memory, memory_map, float_precision)\u001b[0m\n\u001b[1;32m    676\u001b[0m                     skip_blank_lines=skip_blank_lines)\n\u001b[1;32m    677\u001b[0m \u001b[0;34m\u001b[0m\u001b[0m\n\u001b[0;32m--> 678\u001b[0;31m         \u001b[0;32mreturn\u001b[0m \u001b[0m_read\u001b[0m\u001b[0;34m(\u001b[0m\u001b[0mfilepath_or_buffer\u001b[0m\u001b[0;34m,\u001b[0m \u001b[0mkwds\u001b[0m\u001b[0;34m)\u001b[0m\u001b[0;34m\u001b[0m\u001b[0m\n\u001b[0m\u001b[1;32m    679\u001b[0m \u001b[0;34m\u001b[0m\u001b[0m\n\u001b[1;32m    680\u001b[0m     \u001b[0mparser_f\u001b[0m\u001b[0;34m.\u001b[0m\u001b[0m__name__\u001b[0m \u001b[0;34m=\u001b[0m \u001b[0mname\u001b[0m\u001b[0;34m\u001b[0m\u001b[0m\n",
      "\u001b[0;32m/data2/scikit-mobility-library/skmob_dev/lib/python3.5/site-packages/pandas-0.23.4-py3.5-linux-x86_64.egg/pandas/io/parsers.py\u001b[0m in \u001b[0;36m_read\u001b[0;34m(filepath_or_buffer, kwds)\u001b[0m\n\u001b[1;32m    438\u001b[0m \u001b[0;34m\u001b[0m\u001b[0m\n\u001b[1;32m    439\u001b[0m     \u001b[0;31m# Create the parser.\u001b[0m\u001b[0;34m\u001b[0m\u001b[0;34m\u001b[0m\u001b[0m\n\u001b[0;32m--> 440\u001b[0;31m     \u001b[0mparser\u001b[0m \u001b[0;34m=\u001b[0m \u001b[0mTextFileReader\u001b[0m\u001b[0;34m(\u001b[0m\u001b[0mfilepath_or_buffer\u001b[0m\u001b[0;34m,\u001b[0m \u001b[0;34m**\u001b[0m\u001b[0mkwds\u001b[0m\u001b[0;34m)\u001b[0m\u001b[0;34m\u001b[0m\u001b[0m\n\u001b[0m\u001b[1;32m    441\u001b[0m \u001b[0;34m\u001b[0m\u001b[0m\n\u001b[1;32m    442\u001b[0m     \u001b[0;32mif\u001b[0m \u001b[0mchunksize\u001b[0m \u001b[0;32mor\u001b[0m \u001b[0miterator\u001b[0m\u001b[0;34m:\u001b[0m\u001b[0;34m\u001b[0m\u001b[0m\n",
      "\u001b[0;32m/data2/scikit-mobility-library/skmob_dev/lib/python3.5/site-packages/pandas-0.23.4-py3.5-linux-x86_64.egg/pandas/io/parsers.py\u001b[0m in \u001b[0;36m__init__\u001b[0;34m(self, f, engine, **kwds)\u001b[0m\n\u001b[1;32m    785\u001b[0m             \u001b[0mself\u001b[0m\u001b[0;34m.\u001b[0m\u001b[0moptions\u001b[0m\u001b[0;34m[\u001b[0m\u001b[0;34m'has_index_names'\u001b[0m\u001b[0;34m]\u001b[0m \u001b[0;34m=\u001b[0m \u001b[0mkwds\u001b[0m\u001b[0;34m[\u001b[0m\u001b[0;34m'has_index_names'\u001b[0m\u001b[0;34m]\u001b[0m\u001b[0;34m\u001b[0m\u001b[0m\n\u001b[1;32m    786\u001b[0m \u001b[0;34m\u001b[0m\u001b[0m\n\u001b[0;32m--> 787\u001b[0;31m         \u001b[0mself\u001b[0m\u001b[0;34m.\u001b[0m\u001b[0m_make_engine\u001b[0m\u001b[0;34m(\u001b[0m\u001b[0mself\u001b[0m\u001b[0;34m.\u001b[0m\u001b[0mengine\u001b[0m\u001b[0;34m)\u001b[0m\u001b[0;34m\u001b[0m\u001b[0m\n\u001b[0m\u001b[1;32m    788\u001b[0m \u001b[0;34m\u001b[0m\u001b[0m\n\u001b[1;32m    789\u001b[0m     \u001b[0;32mdef\u001b[0m \u001b[0mclose\u001b[0m\u001b[0;34m(\u001b[0m\u001b[0mself\u001b[0m\u001b[0;34m)\u001b[0m\u001b[0;34m:\u001b[0m\u001b[0;34m\u001b[0m\u001b[0m\n",
      "\u001b[0;32m/data2/scikit-mobility-library/skmob_dev/lib/python3.5/site-packages/pandas-0.23.4-py3.5-linux-x86_64.egg/pandas/io/parsers.py\u001b[0m in \u001b[0;36m_make_engine\u001b[0;34m(self, engine)\u001b[0m\n\u001b[1;32m   1012\u001b[0m     \u001b[0;32mdef\u001b[0m \u001b[0m_make_engine\u001b[0m\u001b[0;34m(\u001b[0m\u001b[0mself\u001b[0m\u001b[0;34m,\u001b[0m \u001b[0mengine\u001b[0m\u001b[0;34m=\u001b[0m\u001b[0;34m'c'\u001b[0m\u001b[0;34m)\u001b[0m\u001b[0;34m:\u001b[0m\u001b[0;34m\u001b[0m\u001b[0m\n\u001b[1;32m   1013\u001b[0m         \u001b[0;32mif\u001b[0m \u001b[0mengine\u001b[0m \u001b[0;34m==\u001b[0m \u001b[0;34m'c'\u001b[0m\u001b[0;34m:\u001b[0m\u001b[0;34m\u001b[0m\u001b[0m\n\u001b[0;32m-> 1014\u001b[0;31m             \u001b[0mself\u001b[0m\u001b[0;34m.\u001b[0m\u001b[0m_engine\u001b[0m \u001b[0;34m=\u001b[0m \u001b[0mCParserWrapper\u001b[0m\u001b[0;34m(\u001b[0m\u001b[0mself\u001b[0m\u001b[0;34m.\u001b[0m\u001b[0mf\u001b[0m\u001b[0;34m,\u001b[0m \u001b[0;34m**\u001b[0m\u001b[0mself\u001b[0m\u001b[0;34m.\u001b[0m\u001b[0moptions\u001b[0m\u001b[0;34m)\u001b[0m\u001b[0;34m\u001b[0m\u001b[0m\n\u001b[0m\u001b[1;32m   1015\u001b[0m         \u001b[0;32melse\u001b[0m\u001b[0;34m:\u001b[0m\u001b[0;34m\u001b[0m\u001b[0m\n\u001b[1;32m   1016\u001b[0m             \u001b[0;32mif\u001b[0m \u001b[0mengine\u001b[0m \u001b[0;34m==\u001b[0m \u001b[0;34m'python'\u001b[0m\u001b[0;34m:\u001b[0m\u001b[0;34m\u001b[0m\u001b[0m\n",
      "\u001b[0;32m/data2/scikit-mobility-library/skmob_dev/lib/python3.5/site-packages/pandas-0.23.4-py3.5-linux-x86_64.egg/pandas/io/parsers.py\u001b[0m in \u001b[0;36m__init__\u001b[0;34m(self, src, **kwds)\u001b[0m\n\u001b[1;32m   1706\u001b[0m         \u001b[0mkwds\u001b[0m\u001b[0;34m[\u001b[0m\u001b[0;34m'usecols'\u001b[0m\u001b[0;34m]\u001b[0m \u001b[0;34m=\u001b[0m \u001b[0mself\u001b[0m\u001b[0;34m.\u001b[0m\u001b[0musecols\u001b[0m\u001b[0;34m\u001b[0m\u001b[0m\n\u001b[1;32m   1707\u001b[0m \u001b[0;34m\u001b[0m\u001b[0m\n\u001b[0;32m-> 1708\u001b[0;31m         \u001b[0mself\u001b[0m\u001b[0;34m.\u001b[0m\u001b[0m_reader\u001b[0m \u001b[0;34m=\u001b[0m \u001b[0mparsers\u001b[0m\u001b[0;34m.\u001b[0m\u001b[0mTextReader\u001b[0m\u001b[0;34m(\u001b[0m\u001b[0msrc\u001b[0m\u001b[0;34m,\u001b[0m \u001b[0;34m**\u001b[0m\u001b[0mkwds\u001b[0m\u001b[0;34m)\u001b[0m\u001b[0;34m\u001b[0m\u001b[0m\n\u001b[0m\u001b[1;32m   1709\u001b[0m \u001b[0;34m\u001b[0m\u001b[0m\n\u001b[1;32m   1710\u001b[0m         \u001b[0mpassed_names\u001b[0m \u001b[0;34m=\u001b[0m \u001b[0mself\u001b[0m\u001b[0;34m.\u001b[0m\u001b[0mnames\u001b[0m \u001b[0;32mis\u001b[0m \u001b[0;32mNone\u001b[0m\u001b[0;34m\u001b[0m\u001b[0m\n",
      "\u001b[0;32mpandas/_libs/parsers.pyx\u001b[0m in \u001b[0;36mpandas._libs.parsers.TextReader.__cinit__\u001b[0;34m()\u001b[0m\n",
      "\u001b[0;32mpandas/_libs/parsers.pyx\u001b[0m in \u001b[0;36mpandas._libs.parsers.TextReader._setup_parser_source\u001b[0;34m()\u001b[0m\n",
      "\u001b[0;31mFileNotFoundError\u001b[0m: File b'./data/geolife.csv' does not exist"
     ]
    }
   ],
   "source": [
    "trjs = TrajDataFrame.from_file(\n",
    "    './data/geolife.csv', sep=',')"
   ]
  },
  {
   "cell_type": "markdown",
   "metadata": {
    "slideshow": {
     "slide_type": "fragment"
    }
   },
   "source": [
    "We need to preprocess the data to clean it out, as shown before"
   ]
  },
  {
   "cell_type": "markdown",
   "metadata": {
    "slideshow": {
     "slide_type": "slide"
    }
   },
   "source": [
    "## Preprocessing: generalazing trajectories. Why so?"
   ]
  },
  {
   "cell_type": "markdown",
   "metadata": {},
   "source": [
    "- Generalization and deletion are one of the most common ways in which a data holder can prepare the data for sharing/release. \n",
    "- Unprocessed data has usually a very fine grain that can lead to really high levels of privacy risk in the assessment phase"
   ]
  },
  {
   "cell_type": "code",
   "execution_count": null,
   "metadata": {
    "slideshow": {
     "slide_type": "fragment"
    }
   },
   "outputs": [],
   "source": [
    "from skmob.preprocessing import filtering\n",
    "ftrjs = filtering.filter(trjs, max_speed_kmh=500.)"
   ]
  },
  {
   "cell_type": "code",
   "execution_count": null,
   "metadata": {
    "slideshow": {
     "slide_type": "fragment"
    }
   },
   "outputs": [],
   "source": [
    "from skmob.preprocessing import compression\n",
    "ctrjs = compression.compress(ftrjs, spatial_radius_km=0.2)"
   ]
  },
  {
   "cell_type": "code",
   "execution_count": null,
   "metadata": {
    "slideshow": {
     "slide_type": "fragment"
    }
   },
   "outputs": [],
   "source": [
    "from skmob.preprocessing import detection\n",
    "strjs= detection.stops(ctrjs, stop_radius_factor=0.8, \\\n",
    "            minutes_for_a_stop=30.0, spatial_radius_km=0.5, \n",
    "                       leaving_time=True)"
   ]
  },
  {
   "cell_type": "markdown",
   "metadata": {
    "slideshow": {
     "slide_type": "slide"
    }
   },
   "source": [
    "## Clustering Trajectories\n",
    "Clustering helps with generalization, thus reducing privacy risk\n",
    "It is important to group points into \"cells\""
   ]
  },
  {
   "cell_type": "code",
   "execution_count": null,
   "metadata": {},
   "outputs": [],
   "source": [
    "from skmob.preprocessing import clustering\n",
    "clust_trjs = clustering.cluster(strjs, cluster_radius_km=0.5, min_samples=1)"
   ]
  },
  {
   "cell_type": "markdown",
   "metadata": {
    "slideshow": {
     "slide_type": "fragment"
    }
   },
   "source": [
    "We can see how many distinct cluster we obtain. We will use the centroids of the clusters for privacy risk assessment instead of the single points"
   ]
  },
  {
   "cell_type": "code",
   "execution_count": null,
   "metadata": {},
   "outputs": [],
   "source": [
    "len(pd.unique(clust_trjs[\"cluster\"]))"
   ]
  },
  {
   "cell_type": "markdown",
   "metadata": {
    "slideshow": {
     "slide_type": "slide"
    }
   },
   "source": [
    "We compute the centroid and then we merge them with the original data"
   ]
  },
  {
   "cell_type": "code",
   "execution_count": null,
   "metadata": {},
   "outputs": [],
   "source": [
    "centroids = clust_trjs.groupby(\"cluster\").mean().reset_index()\n",
    "centroids = centroids.rename(columns={\"uid\":\"wrong_uid\"})\n",
    "centroids_traj = clust_trjs.rename(columns={\"lat\":\"latitude\",\"lng\":\"longitude\"})\n",
    "centroids_traj = pd.merge(centroids_traj,centroids,left_on=\"cluster\",right_on=\"cluster\")\n",
    "privacy_trjs = centroids_traj[[\"datetime\",\"lat\",\"lng\",\"uid\"]]"
   ]
  },
  {
   "cell_type": "markdown",
   "metadata": {
    "slideshow": {
     "slide_type": "fragment"
    }
   },
   "source": [
    "We save the processed data to save time"
   ]
  },
  {
   "cell_type": "code",
   "execution_count": null,
   "metadata": {},
   "outputs": [],
   "source": [
    "privacy_trjs.to_csv(\"data/geolife_privacy.csv\",index=False)"
   ]
  },
  {
   "cell_type": "code",
   "execution_count": 2,
   "metadata": {},
   "outputs": [],
   "source": [
    "privacy_trjs = TrajDataFrame.from_file(\"data/geolife_privacy.csv\")"
   ]
  },
  {
   "cell_type": "markdown",
   "metadata": {
    "pycharm": {},
    "slideshow": {
     "slide_type": "slide"
    }
   },
   "source": [
    "## Setting up attacks\n",
    "Each type of attack is a separate class inheriting from a generic `Attack` class. \n",
    "We can instatiante an attack model by specifying the length `knowledge_length` of the background knowledge that we want to simulate."
   ]
  },
  {
   "cell_type": "code",
   "execution_count": 22,
   "metadata": {},
   "outputs": [],
   "source": [
    "at = attacks.LocationFrequencyAttack(knowledge_length=2,tolerance=0.5)"
   ]
  },
  {
   "cell_type": "markdown",
   "metadata": {
    "pycharm": {},
    "slideshow": {
     "slide_type": "fragment"
    }
   },
   "source": [
    "To compute privacy risk for all users, simply call the `assess_risk` function on the trajectory dataframe. We will use just a portion of the data for demonstration."
   ]
  },
  {
   "cell_type": "code",
   "execution_count": null,
   "metadata": {},
   "outputs": [],
   "source": [
    "privacy_trjs_tr = privacy_trjs[privacy_trjs[\"uid\"].isin(pd.unique(privacy_trjs[\"uid\"])[:20])]"
   ]
  },
  {
   "cell_type": "code",
   "execution_count": 6,
   "metadata": {},
   "outputs": [
    {
     "name": "stderr",
     "output_type": "stream",
     "text": [
      "computing risk: 100%|██████████| 20/20 [18:06<00:00, 45.04s/it]\n"
     ]
    }
   ],
   "source": [
    "r2 = at2.assess_risk(privacy_trjs_tr, show_progress=True)"
   ]
  },
  {
   "cell_type": "code",
   "execution_count": 21,
   "metadata": {
    "slideshow": {
     "slide_type": "slide"
    }
   },
   "outputs": [
    {
     "data": {
      "text/html": [
       "<div>\n",
       "<style scoped>\n",
       "    .dataframe tbody tr th:only-of-type {\n",
       "        vertical-align: middle;\n",
       "    }\n",
       "\n",
       "    .dataframe tbody tr th {\n",
       "        vertical-align: top;\n",
       "    }\n",
       "\n",
       "    .dataframe thead th {\n",
       "        text-align: right;\n",
       "    }\n",
       "</style>\n",
       "<table border=\"1\" class=\"dataframe\">\n",
       "  <thead>\n",
       "    <tr style=\"text-align: right;\">\n",
       "      <th></th>\n",
       "      <th>uid</th>\n",
       "      <th>risk</th>\n",
       "    </tr>\n",
       "  </thead>\n",
       "  <tbody>\n",
       "    <tr>\n",
       "      <th>0</th>\n",
       "      <td>0</td>\n",
       "      <td>1.000000</td>\n",
       "    </tr>\n",
       "    <tr>\n",
       "      <th>1</th>\n",
       "      <td>1</td>\n",
       "      <td>0.250000</td>\n",
       "    </tr>\n",
       "    <tr>\n",
       "      <th>2</th>\n",
       "      <td>2</td>\n",
       "      <td>0.500000</td>\n",
       "    </tr>\n",
       "    <tr>\n",
       "      <th>3</th>\n",
       "      <td>3</td>\n",
       "      <td>1.000000</td>\n",
       "    </tr>\n",
       "    <tr>\n",
       "      <th>4</th>\n",
       "      <td>4</td>\n",
       "      <td>1.000000</td>\n",
       "    </tr>\n",
       "    <tr>\n",
       "      <th>5</th>\n",
       "      <td>7</td>\n",
       "      <td>1.000000</td>\n",
       "    </tr>\n",
       "    <tr>\n",
       "      <th>6</th>\n",
       "      <td>10</td>\n",
       "      <td>1.000000</td>\n",
       "    </tr>\n",
       "    <tr>\n",
       "      <th>7</th>\n",
       "      <td>11</td>\n",
       "      <td>0.333333</td>\n",
       "    </tr>\n",
       "    <tr>\n",
       "      <th>8</th>\n",
       "      <td>12</td>\n",
       "      <td>0.500000</td>\n",
       "    </tr>\n",
       "    <tr>\n",
       "      <th>9</th>\n",
       "      <td>13</td>\n",
       "      <td>1.000000</td>\n",
       "    </tr>\n",
       "    <tr>\n",
       "      <th>10</th>\n",
       "      <td>14</td>\n",
       "      <td>1.000000</td>\n",
       "    </tr>\n",
       "    <tr>\n",
       "      <th>11</th>\n",
       "      <td>16</td>\n",
       "      <td>0.500000</td>\n",
       "    </tr>\n",
       "    <tr>\n",
       "      <th>12</th>\n",
       "      <td>17</td>\n",
       "      <td>1.000000</td>\n",
       "    </tr>\n",
       "    <tr>\n",
       "      <th>13</th>\n",
       "      <td>18</td>\n",
       "      <td>1.000000</td>\n",
       "    </tr>\n",
       "    <tr>\n",
       "      <th>14</th>\n",
       "      <td>19</td>\n",
       "      <td>1.000000</td>\n",
       "    </tr>\n",
       "    <tr>\n",
       "      <th>15</th>\n",
       "      <td>22</td>\n",
       "      <td>1.000000</td>\n",
       "    </tr>\n",
       "    <tr>\n",
       "      <th>16</th>\n",
       "      <td>24</td>\n",
       "      <td>1.000000</td>\n",
       "    </tr>\n",
       "    <tr>\n",
       "      <th>17</th>\n",
       "      <td>25</td>\n",
       "      <td>1.000000</td>\n",
       "    </tr>\n",
       "    <tr>\n",
       "      <th>18</th>\n",
       "      <td>26</td>\n",
       "      <td>1.000000</td>\n",
       "    </tr>\n",
       "    <tr>\n",
       "      <th>19</th>\n",
       "      <td>28</td>\n",
       "      <td>1.000000</td>\n",
       "    </tr>\n",
       "  </tbody>\n",
       "</table>\n",
       "</div>"
      ],
      "text/plain": [
       "    uid      risk\n",
       "0     0  1.000000\n",
       "1     1  0.250000\n",
       "2     2  0.500000\n",
       "3     3  1.000000\n",
       "4     4  1.000000\n",
       "5     7  1.000000\n",
       "6    10  1.000000\n",
       "7    11  0.333333\n",
       "8    12  0.500000\n",
       "9    13  1.000000\n",
       "10   14  1.000000\n",
       "11   16  0.500000\n",
       "12   17  1.000000\n",
       "13   18  1.000000\n",
       "14   19  1.000000\n",
       "15   22  1.000000\n",
       "16   24  1.000000\n",
       "17   25  1.000000\n",
       "18   26  1.000000\n",
       "19   28  1.000000"
      ]
     },
     "execution_count": 21,
     "metadata": {},
     "output_type": "execute_result"
    }
   ],
   "source": [
    "r2"
   ]
  },
  {
   "cell_type": "code",
   "execution_count": 7,
   "metadata": {},
   "outputs": [
    {
     "data": {
      "text/html": [
       "<div>\n",
       "<style scoped>\n",
       "    .dataframe tbody tr th:only-of-type {\n",
       "        vertical-align: middle;\n",
       "    }\n",
       "\n",
       "    .dataframe tbody tr th {\n",
       "        vertical-align: top;\n",
       "    }\n",
       "\n",
       "    .dataframe thead th {\n",
       "        text-align: right;\n",
       "    }\n",
       "</style>\n",
       "<table border=\"1\" class=\"dataframe\">\n",
       "  <thead>\n",
       "    <tr style=\"text-align: right;\">\n",
       "      <th></th>\n",
       "      <th>uid</th>\n",
       "      <th>risk</th>\n",
       "    </tr>\n",
       "  </thead>\n",
       "  <tbody>\n",
       "    <tr>\n",
       "      <th>1</th>\n",
       "      <td>1</td>\n",
       "      <td>0.250000</td>\n",
       "    </tr>\n",
       "    <tr>\n",
       "      <th>2</th>\n",
       "      <td>2</td>\n",
       "      <td>0.500000</td>\n",
       "    </tr>\n",
       "    <tr>\n",
       "      <th>7</th>\n",
       "      <td>11</td>\n",
       "      <td>0.333333</td>\n",
       "    </tr>\n",
       "    <tr>\n",
       "      <th>8</th>\n",
       "      <td>12</td>\n",
       "      <td>0.500000</td>\n",
       "    </tr>\n",
       "    <tr>\n",
       "      <th>11</th>\n",
       "      <td>16</td>\n",
       "      <td>0.500000</td>\n",
       "    </tr>\n",
       "  </tbody>\n",
       "</table>\n",
       "</div>"
      ],
      "text/plain": [
       "    uid      risk\n",
       "1     1  0.250000\n",
       "2     2  0.500000\n",
       "7    11  0.333333\n",
       "8    12  0.500000\n",
       "11   16  0.500000"
      ]
     },
     "execution_count": 7,
     "metadata": {},
     "output_type": "execute_result"
    }
   ],
   "source": [
    "r2[r2[\"risk\"] < 1]"
   ]
  },
  {
   "cell_type": "markdown",
   "metadata": {
    "pycharm": {},
    "slideshow": {
     "slide_type": "slide"
    }
   },
   "source": [
    "## Assessment options\n",
    "To change the size of the background knowledge, we can either change the `knowledge_length` parameter or instantiate a new attack model."
   ]
  },
  {
   "cell_type": "code",
   "execution_count": 25,
   "metadata": {
    "pycharm": {},
    "slideshow": {
     "slide_type": "-"
    }
   },
   "outputs": [
    {
     "name": "stderr",
     "output_type": "stream",
     "text": [
      "computing risk: 100%|██████████| 20/20 [54:55<00:00, 55.54s/it]  \n"
     ]
    }
   ],
   "source": [
    "at.knowledge_length = 3\n",
    "r3 = at.assess_risk(privacy_trjs_tr,show_progress=True)"
   ]
  },
  {
   "cell_type": "code",
   "execution_count": 29,
   "metadata": {
    "slideshow": {
     "slide_type": "fragment"
    }
   },
   "outputs": [
    {
     "data": {
      "text/html": [
       "<div>\n",
       "<style scoped>\n",
       "    .dataframe tbody tr th:only-of-type {\n",
       "        vertical-align: middle;\n",
       "    }\n",
       "\n",
       "    .dataframe tbody tr th {\n",
       "        vertical-align: top;\n",
       "    }\n",
       "\n",
       "    .dataframe thead th {\n",
       "        text-align: right;\n",
       "    }\n",
       "</style>\n",
       "<table border=\"1\" class=\"dataframe\">\n",
       "  <thead>\n",
       "    <tr style=\"text-align: right;\">\n",
       "      <th></th>\n",
       "      <th>uid</th>\n",
       "      <th>risk</th>\n",
       "    </tr>\n",
       "  </thead>\n",
       "  <tbody>\n",
       "    <tr>\n",
       "      <th>1</th>\n",
       "      <td>1</td>\n",
       "      <td>0.333333</td>\n",
       "    </tr>\n",
       "    <tr>\n",
       "      <th>2</th>\n",
       "      <td>2</td>\n",
       "      <td>0.500000</td>\n",
       "    </tr>\n",
       "    <tr>\n",
       "      <th>7</th>\n",
       "      <td>11</td>\n",
       "      <td>0.333333</td>\n",
       "    </tr>\n",
       "    <tr>\n",
       "      <th>11</th>\n",
       "      <td>16</td>\n",
       "      <td>0.500000</td>\n",
       "    </tr>\n",
       "  </tbody>\n",
       "</table>\n",
       "</div>"
      ],
      "text/plain": [
       "    uid      risk\n",
       "1     1  0.333333\n",
       "2     2  0.500000\n",
       "7    11  0.333333\n",
       "11   16  0.500000"
      ]
     },
     "execution_count": 29,
     "metadata": {},
     "output_type": "execute_result"
    }
   ],
   "source": [
    "r3[r3[\"risk\"] < 1]"
   ]
  },
  {
   "cell_type": "markdown",
   "metadata": {
    "pycharm": {},
    "slideshow": {
     "slide_type": "slide"
    }
   },
   "source": [
    "Not all background knowledge instances may be evaluated during the assessment: if an instance has risk equal to 1.0, the following combinations are discarded.\n",
    "\n",
    "If you want to show all possible instances, use the `force_instances` parameter.\n",
    "As all instances are computed, this may require long times and high memory usage.\n",
    "\n",
    "Combinations are identified by the attribute `instance` while the elements in the instance are indicated with the attribute `instance_elem`. \n",
    "\n",
    "We can also use the option `targets` to specify the subset of the individuals on which to perform privacy risk assessment. Risk is still computed against the whole dataset.\n",
    "\n",
    "To check on the progress, we can use the `show_progress` attribute"
   ]
  },
  {
   "cell_type": "code",
   "execution_count": 27,
   "metadata": {
    "pycharm": {},
    "slideshow": {
     "slide_type": "slide"
    }
   },
   "outputs": [
    {
     "name": "stderr",
     "output_type": "stream",
     "text": [
      "computing risk: 100%|██████████| 2/2 [02:46<00:00, 83.19s/it]\n"
     ]
    },
    {
     "data": {
      "text/html": [
       "<div>\n",
       "<style scoped>\n",
       "    .dataframe tbody tr th:only-of-type {\n",
       "        vertical-align: middle;\n",
       "    }\n",
       "\n",
       "    .dataframe tbody tr th {\n",
       "        vertical-align: top;\n",
       "    }\n",
       "\n",
       "    .dataframe thead th {\n",
       "        text-align: right;\n",
       "    }\n",
       "</style>\n",
       "<table border=\"1\" class=\"dataframe\">\n",
       "  <thead>\n",
       "    <tr style=\"text-align: right;\">\n",
       "      <th></th>\n",
       "      <th>lat</th>\n",
       "      <th>lng</th>\n",
       "      <th>datetime</th>\n",
       "      <th>uid</th>\n",
       "      <th>instance</th>\n",
       "      <th>instance_elem</th>\n",
       "      <th>prob</th>\n",
       "    </tr>\n",
       "  </thead>\n",
       "  <tbody>\n",
       "    <tr>\n",
       "      <th>0</th>\n",
       "      <td>1.0</td>\n",
       "      <td>37.677510</td>\n",
       "      <td>113.264952</td>\n",
       "      <td>1.0</td>\n",
       "      <td>1</td>\n",
       "      <td>1</td>\n",
       "      <td>0.100000</td>\n",
       "    </tr>\n",
       "    <tr>\n",
       "      <th>1</th>\n",
       "      <td>1.0</td>\n",
       "      <td>37.934231</td>\n",
       "      <td>113.377891</td>\n",
       "      <td>1.0</td>\n",
       "      <td>1</td>\n",
       "      <td>2</td>\n",
       "      <td>0.100000</td>\n",
       "    </tr>\n",
       "    <tr>\n",
       "      <th>2</th>\n",
       "      <td>1.0</td>\n",
       "      <td>37.995852</td>\n",
       "      <td>90.888742</td>\n",
       "      <td>1.0</td>\n",
       "      <td>1</td>\n",
       "      <td>3</td>\n",
       "      <td>0.100000</td>\n",
       "    </tr>\n",
       "    <tr>\n",
       "      <th>3</th>\n",
       "      <td>1.0</td>\n",
       "      <td>37.677510</td>\n",
       "      <td>113.264952</td>\n",
       "      <td>1.0</td>\n",
       "      <td>2</td>\n",
       "      <td>1</td>\n",
       "      <td>0.100000</td>\n",
       "    </tr>\n",
       "    <tr>\n",
       "      <th>4</th>\n",
       "      <td>1.0</td>\n",
       "      <td>37.934231</td>\n",
       "      <td>113.377891</td>\n",
       "      <td>1.0</td>\n",
       "      <td>2</td>\n",
       "      <td>2</td>\n",
       "      <td>0.100000</td>\n",
       "    </tr>\n",
       "    <tr>\n",
       "      <th>5</th>\n",
       "      <td>1.0</td>\n",
       "      <td>38.324604</td>\n",
       "      <td>115.732652</td>\n",
       "      <td>1.0</td>\n",
       "      <td>2</td>\n",
       "      <td>3</td>\n",
       "      <td>0.100000</td>\n",
       "    </tr>\n",
       "    <tr>\n",
       "      <th>6</th>\n",
       "      <td>1.0</td>\n",
       "      <td>37.677510</td>\n",
       "      <td>113.264952</td>\n",
       "      <td>1.0</td>\n",
       "      <td>3</td>\n",
       "      <td>1</td>\n",
       "      <td>0.100000</td>\n",
       "    </tr>\n",
       "    <tr>\n",
       "      <th>7</th>\n",
       "      <td>1.0</td>\n",
       "      <td>37.934231</td>\n",
       "      <td>113.377891</td>\n",
       "      <td>1.0</td>\n",
       "      <td>3</td>\n",
       "      <td>2</td>\n",
       "      <td>0.100000</td>\n",
       "    </tr>\n",
       "    <tr>\n",
       "      <th>8</th>\n",
       "      <td>1.0</td>\n",
       "      <td>38.333659</td>\n",
       "      <td>111.374805</td>\n",
       "      <td>1.0</td>\n",
       "      <td>3</td>\n",
       "      <td>3</td>\n",
       "      <td>0.100000</td>\n",
       "    </tr>\n",
       "    <tr>\n",
       "      <th>9</th>\n",
       "      <td>1.0</td>\n",
       "      <td>37.677510</td>\n",
       "      <td>113.264952</td>\n",
       "      <td>1.0</td>\n",
       "      <td>4</td>\n",
       "      <td>1</td>\n",
       "      <td>0.100000</td>\n",
       "    </tr>\n",
       "    <tr>\n",
       "      <th>10</th>\n",
       "      <td>1.0</td>\n",
       "      <td>37.934231</td>\n",
       "      <td>113.377891</td>\n",
       "      <td>1.0</td>\n",
       "      <td>4</td>\n",
       "      <td>2</td>\n",
       "      <td>0.100000</td>\n",
       "    </tr>\n",
       "    <tr>\n",
       "      <th>11</th>\n",
       "      <td>1.0</td>\n",
       "      <td>38.578727</td>\n",
       "      <td>116.163049</td>\n",
       "      <td>1.0</td>\n",
       "      <td>4</td>\n",
       "      <td>3</td>\n",
       "      <td>0.100000</td>\n",
       "    </tr>\n",
       "    <tr>\n",
       "      <th>12</th>\n",
       "      <td>1.0</td>\n",
       "      <td>37.677510</td>\n",
       "      <td>113.264952</td>\n",
       "      <td>1.0</td>\n",
       "      <td>5</td>\n",
       "      <td>1</td>\n",
       "      <td>0.100000</td>\n",
       "    </tr>\n",
       "    <tr>\n",
       "      <th>13</th>\n",
       "      <td>1.0</td>\n",
       "      <td>37.934231</td>\n",
       "      <td>113.377891</td>\n",
       "      <td>1.0</td>\n",
       "      <td>5</td>\n",
       "      <td>2</td>\n",
       "      <td>0.100000</td>\n",
       "    </tr>\n",
       "    <tr>\n",
       "      <th>14</th>\n",
       "      <td>1.0</td>\n",
       "      <td>38.643015</td>\n",
       "      <td>110.865531</td>\n",
       "      <td>1.0</td>\n",
       "      <td>5</td>\n",
       "      <td>3</td>\n",
       "      <td>0.100000</td>\n",
       "    </tr>\n",
       "    <tr>\n",
       "      <th>15</th>\n",
       "      <td>1.0</td>\n",
       "      <td>37.677510</td>\n",
       "      <td>113.264952</td>\n",
       "      <td>1.0</td>\n",
       "      <td>6</td>\n",
       "      <td>1</td>\n",
       "      <td>0.100000</td>\n",
       "    </tr>\n",
       "    <tr>\n",
       "      <th>16</th>\n",
       "      <td>1.0</td>\n",
       "      <td>37.934231</td>\n",
       "      <td>113.377891</td>\n",
       "      <td>1.0</td>\n",
       "      <td>6</td>\n",
       "      <td>2</td>\n",
       "      <td>0.100000</td>\n",
       "    </tr>\n",
       "    <tr>\n",
       "      <th>17</th>\n",
       "      <td>1.0</td>\n",
       "      <td>39.029629</td>\n",
       "      <td>112.892101</td>\n",
       "      <td>1.0</td>\n",
       "      <td>6</td>\n",
       "      <td>3</td>\n",
       "      <td>0.100000</td>\n",
       "    </tr>\n",
       "    <tr>\n",
       "      <th>18</th>\n",
       "      <td>1.0</td>\n",
       "      <td>37.677510</td>\n",
       "      <td>113.264952</td>\n",
       "      <td>1.0</td>\n",
       "      <td>7</td>\n",
       "      <td>1</td>\n",
       "      <td>0.100000</td>\n",
       "    </tr>\n",
       "    <tr>\n",
       "      <th>19</th>\n",
       "      <td>1.0</td>\n",
       "      <td>37.934231</td>\n",
       "      <td>113.377891</td>\n",
       "      <td>1.0</td>\n",
       "      <td>7</td>\n",
       "      <td>2</td>\n",
       "      <td>0.100000</td>\n",
       "    </tr>\n",
       "    <tr>\n",
       "      <th>20</th>\n",
       "      <td>1.0</td>\n",
       "      <td>39.065823</td>\n",
       "      <td>99.271907</td>\n",
       "      <td>1.0</td>\n",
       "      <td>7</td>\n",
       "      <td>3</td>\n",
       "      <td>0.100000</td>\n",
       "    </tr>\n",
       "    <tr>\n",
       "      <th>21</th>\n",
       "      <td>1.0</td>\n",
       "      <td>37.677510</td>\n",
       "      <td>113.264952</td>\n",
       "      <td>1.0</td>\n",
       "      <td>8</td>\n",
       "      <td>1</td>\n",
       "      <td>0.100000</td>\n",
       "    </tr>\n",
       "    <tr>\n",
       "      <th>22</th>\n",
       "      <td>1.0</td>\n",
       "      <td>37.934231</td>\n",
       "      <td>113.377891</td>\n",
       "      <td>1.0</td>\n",
       "      <td>8</td>\n",
       "      <td>2</td>\n",
       "      <td>0.100000</td>\n",
       "    </tr>\n",
       "    <tr>\n",
       "      <th>23</th>\n",
       "      <td>1.0</td>\n",
       "      <td>39.070276</td>\n",
       "      <td>115.662445</td>\n",
       "      <td>1.0</td>\n",
       "      <td>8</td>\n",
       "      <td>3</td>\n",
       "      <td>0.100000</td>\n",
       "    </tr>\n",
       "    <tr>\n",
       "      <th>24</th>\n",
       "      <td>1.0</td>\n",
       "      <td>37.677510</td>\n",
       "      <td>113.264952</td>\n",
       "      <td>1.0</td>\n",
       "      <td>9</td>\n",
       "      <td>1</td>\n",
       "      <td>0.100000</td>\n",
       "    </tr>\n",
       "    <tr>\n",
       "      <th>25</th>\n",
       "      <td>1.0</td>\n",
       "      <td>37.934231</td>\n",
       "      <td>113.377891</td>\n",
       "      <td>1.0</td>\n",
       "      <td>9</td>\n",
       "      <td>2</td>\n",
       "      <td>0.100000</td>\n",
       "    </tr>\n",
       "    <tr>\n",
       "      <th>26</th>\n",
       "      <td>1.0</td>\n",
       "      <td>39.367133</td>\n",
       "      <td>110.799440</td>\n",
       "      <td>1.0</td>\n",
       "      <td>9</td>\n",
       "      <td>3</td>\n",
       "      <td>0.100000</td>\n",
       "    </tr>\n",
       "    <tr>\n",
       "      <th>27</th>\n",
       "      <td>1.0</td>\n",
       "      <td>37.677510</td>\n",
       "      <td>113.264952</td>\n",
       "      <td>1.0</td>\n",
       "      <td>10</td>\n",
       "      <td>1</td>\n",
       "      <td>0.100000</td>\n",
       "    </tr>\n",
       "    <tr>\n",
       "      <th>28</th>\n",
       "      <td>1.0</td>\n",
       "      <td>37.934231</td>\n",
       "      <td>113.377891</td>\n",
       "      <td>1.0</td>\n",
       "      <td>10</td>\n",
       "      <td>2</td>\n",
       "      <td>0.100000</td>\n",
       "    </tr>\n",
       "    <tr>\n",
       "      <th>29</th>\n",
       "      <td>1.0</td>\n",
       "      <td>39.948277</td>\n",
       "      <td>108.118201</td>\n",
       "      <td>1.0</td>\n",
       "      <td>10</td>\n",
       "      <td>3</td>\n",
       "      <td>0.100000</td>\n",
       "    </tr>\n",
       "    <tr>\n",
       "      <th>...</th>\n",
       "      <td>...</td>\n",
       "      <td>...</td>\n",
       "      <td>...</td>\n",
       "      <td>...</td>\n",
       "      <td>...</td>\n",
       "      <td>...</td>\n",
       "      <td>...</td>\n",
       "    </tr>\n",
       "    <tr>\n",
       "      <th>13365</th>\n",
       "      <td>11.0</td>\n",
       "      <td>39.759463</td>\n",
       "      <td>112.485415</td>\n",
       "      <td>3.0</td>\n",
       "      <td>2916</td>\n",
       "      <td>1</td>\n",
       "      <td>0.125000</td>\n",
       "    </tr>\n",
       "    <tr>\n",
       "      <th>13366</th>\n",
       "      <td>11.0</td>\n",
       "      <td>39.026288</td>\n",
       "      <td>113.399348</td>\n",
       "      <td>4.0</td>\n",
       "      <td>2916</td>\n",
       "      <td>2</td>\n",
       "      <td>0.125000</td>\n",
       "    </tr>\n",
       "    <tr>\n",
       "      <th>13367</th>\n",
       "      <td>11.0</td>\n",
       "      <td>39.752048</td>\n",
       "      <td>112.047600</td>\n",
       "      <td>9.0</td>\n",
       "      <td>2916</td>\n",
       "      <td>3</td>\n",
       "      <td>0.125000</td>\n",
       "    </tr>\n",
       "    <tr>\n",
       "      <th>13368</th>\n",
       "      <td>11.0</td>\n",
       "      <td>39.759463</td>\n",
       "      <td>112.485415</td>\n",
       "      <td>3.0</td>\n",
       "      <td>2917</td>\n",
       "      <td>1</td>\n",
       "      <td>0.200000</td>\n",
       "    </tr>\n",
       "    <tr>\n",
       "      <th>13369</th>\n",
       "      <td>11.0</td>\n",
       "      <td>39.026288</td>\n",
       "      <td>113.399348</td>\n",
       "      <td>4.0</td>\n",
       "      <td>2917</td>\n",
       "      <td>2</td>\n",
       "      <td>0.200000</td>\n",
       "    </tr>\n",
       "    <tr>\n",
       "      <th>13370</th>\n",
       "      <td>11.0</td>\n",
       "      <td>39.729416</td>\n",
       "      <td>116.428941</td>\n",
       "      <td>26.0</td>\n",
       "      <td>2917</td>\n",
       "      <td>3</td>\n",
       "      <td>0.200000</td>\n",
       "    </tr>\n",
       "    <tr>\n",
       "      <th>13371</th>\n",
       "      <td>11.0</td>\n",
       "      <td>39.759463</td>\n",
       "      <td>112.485415</td>\n",
       "      <td>3.0</td>\n",
       "      <td>2918</td>\n",
       "      <td>1</td>\n",
       "      <td>0.250000</td>\n",
       "    </tr>\n",
       "    <tr>\n",
       "      <th>13372</th>\n",
       "      <td>11.0</td>\n",
       "      <td>39.026288</td>\n",
       "      <td>113.399348</td>\n",
       "      <td>4.0</td>\n",
       "      <td>2918</td>\n",
       "      <td>2</td>\n",
       "      <td>0.250000</td>\n",
       "    </tr>\n",
       "    <tr>\n",
       "      <th>13373</th>\n",
       "      <td>11.0</td>\n",
       "      <td>39.918452</td>\n",
       "      <td>116.284560</td>\n",
       "      <td>90.0</td>\n",
       "      <td>2918</td>\n",
       "      <td>3</td>\n",
       "      <td>0.250000</td>\n",
       "    </tr>\n",
       "    <tr>\n",
       "      <th>13374</th>\n",
       "      <td>11.0</td>\n",
       "      <td>39.759463</td>\n",
       "      <td>112.485415</td>\n",
       "      <td>3.0</td>\n",
       "      <td>2919</td>\n",
       "      <td>1</td>\n",
       "      <td>0.200000</td>\n",
       "    </tr>\n",
       "    <tr>\n",
       "      <th>13375</th>\n",
       "      <td>11.0</td>\n",
       "      <td>39.752048</td>\n",
       "      <td>112.047600</td>\n",
       "      <td>9.0</td>\n",
       "      <td>2919</td>\n",
       "      <td>2</td>\n",
       "      <td>0.200000</td>\n",
       "    </tr>\n",
       "    <tr>\n",
       "      <th>13376</th>\n",
       "      <td>11.0</td>\n",
       "      <td>39.729416</td>\n",
       "      <td>116.428941</td>\n",
       "      <td>26.0</td>\n",
       "      <td>2919</td>\n",
       "      <td>3</td>\n",
       "      <td>0.200000</td>\n",
       "    </tr>\n",
       "    <tr>\n",
       "      <th>13377</th>\n",
       "      <td>11.0</td>\n",
       "      <td>39.759463</td>\n",
       "      <td>112.485415</td>\n",
       "      <td>3.0</td>\n",
       "      <td>2920</td>\n",
       "      <td>1</td>\n",
       "      <td>0.333333</td>\n",
       "    </tr>\n",
       "    <tr>\n",
       "      <th>13378</th>\n",
       "      <td>11.0</td>\n",
       "      <td>39.752048</td>\n",
       "      <td>112.047600</td>\n",
       "      <td>9.0</td>\n",
       "      <td>2920</td>\n",
       "      <td>2</td>\n",
       "      <td>0.333333</td>\n",
       "    </tr>\n",
       "    <tr>\n",
       "      <th>13379</th>\n",
       "      <td>11.0</td>\n",
       "      <td>39.918452</td>\n",
       "      <td>116.284560</td>\n",
       "      <td>90.0</td>\n",
       "      <td>2920</td>\n",
       "      <td>3</td>\n",
       "      <td>0.333333</td>\n",
       "    </tr>\n",
       "    <tr>\n",
       "      <th>13380</th>\n",
       "      <td>11.0</td>\n",
       "      <td>39.759463</td>\n",
       "      <td>112.485415</td>\n",
       "      <td>3.0</td>\n",
       "      <td>2921</td>\n",
       "      <td>1</td>\n",
       "      <td>0.333333</td>\n",
       "    </tr>\n",
       "    <tr>\n",
       "      <th>13381</th>\n",
       "      <td>11.0</td>\n",
       "      <td>39.729416</td>\n",
       "      <td>116.428941</td>\n",
       "      <td>26.0</td>\n",
       "      <td>2921</td>\n",
       "      <td>2</td>\n",
       "      <td>0.333333</td>\n",
       "    </tr>\n",
       "    <tr>\n",
       "      <th>13382</th>\n",
       "      <td>11.0</td>\n",
       "      <td>39.918452</td>\n",
       "      <td>116.284560</td>\n",
       "      <td>90.0</td>\n",
       "      <td>2921</td>\n",
       "      <td>3</td>\n",
       "      <td>0.333333</td>\n",
       "    </tr>\n",
       "    <tr>\n",
       "      <th>13383</th>\n",
       "      <td>11.0</td>\n",
       "      <td>39.026288</td>\n",
       "      <td>113.399348</td>\n",
       "      <td>4.0</td>\n",
       "      <td>2922</td>\n",
       "      <td>1</td>\n",
       "      <td>0.200000</td>\n",
       "    </tr>\n",
       "    <tr>\n",
       "      <th>13384</th>\n",
       "      <td>11.0</td>\n",
       "      <td>39.752048</td>\n",
       "      <td>112.047600</td>\n",
       "      <td>9.0</td>\n",
       "      <td>2922</td>\n",
       "      <td>2</td>\n",
       "      <td>0.200000</td>\n",
       "    </tr>\n",
       "    <tr>\n",
       "      <th>13385</th>\n",
       "      <td>11.0</td>\n",
       "      <td>39.729416</td>\n",
       "      <td>116.428941</td>\n",
       "      <td>26.0</td>\n",
       "      <td>2922</td>\n",
       "      <td>3</td>\n",
       "      <td>0.200000</td>\n",
       "    </tr>\n",
       "    <tr>\n",
       "      <th>13386</th>\n",
       "      <td>11.0</td>\n",
       "      <td>39.026288</td>\n",
       "      <td>113.399348</td>\n",
       "      <td>4.0</td>\n",
       "      <td>2923</td>\n",
       "      <td>1</td>\n",
       "      <td>0.333333</td>\n",
       "    </tr>\n",
       "    <tr>\n",
       "      <th>13387</th>\n",
       "      <td>11.0</td>\n",
       "      <td>39.752048</td>\n",
       "      <td>112.047600</td>\n",
       "      <td>9.0</td>\n",
       "      <td>2923</td>\n",
       "      <td>2</td>\n",
       "      <td>0.333333</td>\n",
       "    </tr>\n",
       "    <tr>\n",
       "      <th>13388</th>\n",
       "      <td>11.0</td>\n",
       "      <td>39.918452</td>\n",
       "      <td>116.284560</td>\n",
       "      <td>90.0</td>\n",
       "      <td>2923</td>\n",
       "      <td>3</td>\n",
       "      <td>0.333333</td>\n",
       "    </tr>\n",
       "    <tr>\n",
       "      <th>13389</th>\n",
       "      <td>11.0</td>\n",
       "      <td>39.026288</td>\n",
       "      <td>113.399348</td>\n",
       "      <td>4.0</td>\n",
       "      <td>2924</td>\n",
       "      <td>1</td>\n",
       "      <td>0.333333</td>\n",
       "    </tr>\n",
       "    <tr>\n",
       "      <th>13390</th>\n",
       "      <td>11.0</td>\n",
       "      <td>39.729416</td>\n",
       "      <td>116.428941</td>\n",
       "      <td>26.0</td>\n",
       "      <td>2924</td>\n",
       "      <td>2</td>\n",
       "      <td>0.333333</td>\n",
       "    </tr>\n",
       "    <tr>\n",
       "      <th>13391</th>\n",
       "      <td>11.0</td>\n",
       "      <td>39.918452</td>\n",
       "      <td>116.284560</td>\n",
       "      <td>90.0</td>\n",
       "      <td>2924</td>\n",
       "      <td>3</td>\n",
       "      <td>0.333333</td>\n",
       "    </tr>\n",
       "    <tr>\n",
       "      <th>13392</th>\n",
       "      <td>11.0</td>\n",
       "      <td>39.752048</td>\n",
       "      <td>112.047600</td>\n",
       "      <td>9.0</td>\n",
       "      <td>2925</td>\n",
       "      <td>1</td>\n",
       "      <td>0.333333</td>\n",
       "    </tr>\n",
       "    <tr>\n",
       "      <th>13393</th>\n",
       "      <td>11.0</td>\n",
       "      <td>39.729416</td>\n",
       "      <td>116.428941</td>\n",
       "      <td>26.0</td>\n",
       "      <td>2925</td>\n",
       "      <td>2</td>\n",
       "      <td>0.333333</td>\n",
       "    </tr>\n",
       "    <tr>\n",
       "      <th>13394</th>\n",
       "      <td>11.0</td>\n",
       "      <td>39.918452</td>\n",
       "      <td>116.284560</td>\n",
       "      <td>90.0</td>\n",
       "      <td>2925</td>\n",
       "      <td>3</td>\n",
       "      <td>0.333333</td>\n",
       "    </tr>\n",
       "  </tbody>\n",
       "</table>\n",
       "<p>13395 rows × 7 columns</p>\n",
       "</div>"
      ],
      "text/plain": [
       "        lat        lng    datetime   uid  instance  instance_elem      prob\n",
       "0       1.0  37.677510  113.264952   1.0         1              1  0.100000\n",
       "1       1.0  37.934231  113.377891   1.0         1              2  0.100000\n",
       "2       1.0  37.995852   90.888742   1.0         1              3  0.100000\n",
       "3       1.0  37.677510  113.264952   1.0         2              1  0.100000\n",
       "4       1.0  37.934231  113.377891   1.0         2              2  0.100000\n",
       "5       1.0  38.324604  115.732652   1.0         2              3  0.100000\n",
       "6       1.0  37.677510  113.264952   1.0         3              1  0.100000\n",
       "7       1.0  37.934231  113.377891   1.0         3              2  0.100000\n",
       "8       1.0  38.333659  111.374805   1.0         3              3  0.100000\n",
       "9       1.0  37.677510  113.264952   1.0         4              1  0.100000\n",
       "10      1.0  37.934231  113.377891   1.0         4              2  0.100000\n",
       "11      1.0  38.578727  116.163049   1.0         4              3  0.100000\n",
       "12      1.0  37.677510  113.264952   1.0         5              1  0.100000\n",
       "13      1.0  37.934231  113.377891   1.0         5              2  0.100000\n",
       "14      1.0  38.643015  110.865531   1.0         5              3  0.100000\n",
       "15      1.0  37.677510  113.264952   1.0         6              1  0.100000\n",
       "16      1.0  37.934231  113.377891   1.0         6              2  0.100000\n",
       "17      1.0  39.029629  112.892101   1.0         6              3  0.100000\n",
       "18      1.0  37.677510  113.264952   1.0         7              1  0.100000\n",
       "19      1.0  37.934231  113.377891   1.0         7              2  0.100000\n",
       "20      1.0  39.065823   99.271907   1.0         7              3  0.100000\n",
       "21      1.0  37.677510  113.264952   1.0         8              1  0.100000\n",
       "22      1.0  37.934231  113.377891   1.0         8              2  0.100000\n",
       "23      1.0  39.070276  115.662445   1.0         8              3  0.100000\n",
       "24      1.0  37.677510  113.264952   1.0         9              1  0.100000\n",
       "25      1.0  37.934231  113.377891   1.0         9              2  0.100000\n",
       "26      1.0  39.367133  110.799440   1.0         9              3  0.100000\n",
       "27      1.0  37.677510  113.264952   1.0        10              1  0.100000\n",
       "28      1.0  37.934231  113.377891   1.0        10              2  0.100000\n",
       "29      1.0  39.948277  108.118201   1.0        10              3  0.100000\n",
       "...     ...        ...         ...   ...       ...            ...       ...\n",
       "13365  11.0  39.759463  112.485415   3.0      2916              1  0.125000\n",
       "13366  11.0  39.026288  113.399348   4.0      2916              2  0.125000\n",
       "13367  11.0  39.752048  112.047600   9.0      2916              3  0.125000\n",
       "13368  11.0  39.759463  112.485415   3.0      2917              1  0.200000\n",
       "13369  11.0  39.026288  113.399348   4.0      2917              2  0.200000\n",
       "13370  11.0  39.729416  116.428941  26.0      2917              3  0.200000\n",
       "13371  11.0  39.759463  112.485415   3.0      2918              1  0.250000\n",
       "13372  11.0  39.026288  113.399348   4.0      2918              2  0.250000\n",
       "13373  11.0  39.918452  116.284560  90.0      2918              3  0.250000\n",
       "13374  11.0  39.759463  112.485415   3.0      2919              1  0.200000\n",
       "13375  11.0  39.752048  112.047600   9.0      2919              2  0.200000\n",
       "13376  11.0  39.729416  116.428941  26.0      2919              3  0.200000\n",
       "13377  11.0  39.759463  112.485415   3.0      2920              1  0.333333\n",
       "13378  11.0  39.752048  112.047600   9.0      2920              2  0.333333\n",
       "13379  11.0  39.918452  116.284560  90.0      2920              3  0.333333\n",
       "13380  11.0  39.759463  112.485415   3.0      2921              1  0.333333\n",
       "13381  11.0  39.729416  116.428941  26.0      2921              2  0.333333\n",
       "13382  11.0  39.918452  116.284560  90.0      2921              3  0.333333\n",
       "13383  11.0  39.026288  113.399348   4.0      2922              1  0.200000\n",
       "13384  11.0  39.752048  112.047600   9.0      2922              2  0.200000\n",
       "13385  11.0  39.729416  116.428941  26.0      2922              3  0.200000\n",
       "13386  11.0  39.026288  113.399348   4.0      2923              1  0.333333\n",
       "13387  11.0  39.752048  112.047600   9.0      2923              2  0.333333\n",
       "13388  11.0  39.918452  116.284560  90.0      2923              3  0.333333\n",
       "13389  11.0  39.026288  113.399348   4.0      2924              1  0.333333\n",
       "13390  11.0  39.729416  116.428941  26.0      2924              2  0.333333\n",
       "13391  11.0  39.918452  116.284560  90.0      2924              3  0.333333\n",
       "13392  11.0  39.752048  112.047600   9.0      2925              1  0.333333\n",
       "13393  11.0  39.729416  116.428941  26.0      2925              2  0.333333\n",
       "13394  11.0  39.918452  116.284560  90.0      2925              3  0.333333\n",
       "\n",
       "[13395 rows x 7 columns]"
      ]
     },
     "execution_count": 27,
     "metadata": {},
     "output_type": "execute_result"
    }
   ],
   "source": [
    "at.assess_risk(privacy_trjs_tr, force_instances=True, targets=[1,11], show_progress=True)"
   ]
  },
  {
   "cell_type": "markdown",
   "metadata": {
    "pycharm": {},
    "slideshow": {
     "slide_type": "slide"
    }
   },
   "source": [
    "We recall that complexity is dominated by the number of combinations\n",
    "The number of combinations generated depends on:\n",
    "- length of the background knowledge\n",
    "- the average length of each user's trajectory. "
   ]
  },
  {
   "cell_type": "markdown",
   "metadata": {
    "pycharm": {},
    "slideshow": {
     "slide_type": "-"
    }
   },
   "source": [
    "\\begin{equation*}\n",
    "\\mathcal{O} \\Bigl(  \\binom{l}{k} |T|  matching \\Bigr)\n",
    "\\end{equation*}\n",
    "\n",
    "- $l$ is the length of the current trajectory considered\n",
    "- $k$ is the background knowledge length\n",
    "- $T$ is the set of all target trajectories\n",
    "- $matching$ stands for the cost of the matching operation between each combination and the data."
   ]
  },
  {
   "cell_type": "markdown",
   "metadata": {
    "pycharm": {},
    "slideshow": {
     "slide_type": "slide"
    }
   },
   "source": [
    "## Attack Models\n",
    "The library provides eight attack models, each with a different background knowledge:\n",
    " - `LocationAttack`: uses the locations visited.\n",
    " - `LocationSequenceAttack`: uses the locations visited with information about the order of visit\n",
    " - `LocationTimeAttack`: uses the locations visited and the time of visit. A precision for the time can be specified"
   ]
  },
  {
   "cell_type": "markdown",
   "metadata": {
    "pycharm": {},
    "slideshow": {
     "slide_type": "-"
    }
   },
   "source": [
    "- `UniqueLocationAttack`: uses the unique locations visited, i.e., disregarding repeated visits to a same location. It operates on frequency vectors\n",
    "- `LocationFrequencyAttack`: uses the unique locations visited and the frequency with which they were visited. It operates on frequency vectors\n",
    "- `LocationProbabilityAttack`: uses the unique locations visited and the probability with which they were visited. It operates on probability vectors"
   ]
  },
  {
   "cell_type": "markdown",
   "metadata": {
    "slideshow": {
     "slide_type": "slide"
    }
   },
   "source": [
    " - `LocationProportionAttack`: uses the unique locations visited and the relative proportion of the frequencies of visit. It operates on frequency vectors\n",
    " - `HomeWorkAttack`: uses the two most visited locations"
   ]
  },
  {
   "cell_type": "markdown",
   "metadata": {
    "slideshow": {
     "slide_type": "slide"
    }
   },
   "source": [
    "## Understaing the matching mechanic\n",
    "In the data folder of the scikit-mobility github, you can find a simple toy dataset that can be used to better understand the mechanics of every attack"
   ]
  },
  {
   "cell_type": "code",
   "execution_count": 31,
   "metadata": {},
   "outputs": [],
   "source": [
    "toy = TrajDataFrame.from_file(filename=\"./data/privacy_toy.csv\")"
   ]
  },
  {
   "cell_type": "code",
   "execution_count": 32,
   "metadata": {
    "slideshow": {
     "slide_type": "slide"
    }
   },
   "outputs": [
    {
     "data": {
      "text/html": [
       "<div>\n",
       "<style scoped>\n",
       "    .dataframe tbody tr th:only-of-type {\n",
       "        vertical-align: middle;\n",
       "    }\n",
       "\n",
       "    .dataframe tbody tr th {\n",
       "        vertical-align: top;\n",
       "    }\n",
       "\n",
       "    .dataframe thead th {\n",
       "        text-align: right;\n",
       "    }\n",
       "</style>\n",
       "<table border=\"1\" class=\"dataframe\">\n",
       "  <thead>\n",
       "    <tr style=\"text-align: right;\">\n",
       "      <th></th>\n",
       "      <th>lat</th>\n",
       "      <th>lng</th>\n",
       "      <th>datetime</th>\n",
       "      <th>uid</th>\n",
       "    </tr>\n",
       "  </thead>\n",
       "  <tbody>\n",
       "    <tr>\n",
       "      <th>0</th>\n",
       "      <td>43.843014</td>\n",
       "      <td>10.507994</td>\n",
       "      <td>2011-02-03 08:34:04</td>\n",
       "      <td>1</td>\n",
       "    </tr>\n",
       "    <tr>\n",
       "      <th>1</th>\n",
       "      <td>43.544270</td>\n",
       "      <td>10.326150</td>\n",
       "      <td>2011-02-03 09:34:04</td>\n",
       "      <td>1</td>\n",
       "    </tr>\n",
       "    <tr>\n",
       "      <th>2</th>\n",
       "      <td>43.708530</td>\n",
       "      <td>10.403600</td>\n",
       "      <td>2011-02-03 10:34:04</td>\n",
       "      <td>1</td>\n",
       "    </tr>\n",
       "    <tr>\n",
       "      <th>3</th>\n",
       "      <td>43.779250</td>\n",
       "      <td>11.246260</td>\n",
       "      <td>2011-02-04 10:34:04</td>\n",
       "      <td>1</td>\n",
       "    </tr>\n",
       "    <tr>\n",
       "      <th>4</th>\n",
       "      <td>43.843014</td>\n",
       "      <td>10.507994</td>\n",
       "      <td>2011-02-03 08:34:04</td>\n",
       "      <td>2</td>\n",
       "    </tr>\n",
       "    <tr>\n",
       "      <th>5</th>\n",
       "      <td>43.708530</td>\n",
       "      <td>10.403600</td>\n",
       "      <td>2011-02-03 09:34:04</td>\n",
       "      <td>2</td>\n",
       "    </tr>\n",
       "    <tr>\n",
       "      <th>6</th>\n",
       "      <td>43.843014</td>\n",
       "      <td>10.507994</td>\n",
       "      <td>2011-02-04 10:34:04</td>\n",
       "      <td>2</td>\n",
       "    </tr>\n",
       "    <tr>\n",
       "      <th>7</th>\n",
       "      <td>43.544270</td>\n",
       "      <td>10.326150</td>\n",
       "      <td>2011-02-04 11:34:04</td>\n",
       "      <td>2</td>\n",
       "    </tr>\n",
       "    <tr>\n",
       "      <th>8</th>\n",
       "      <td>43.544270</td>\n",
       "      <td>10.326150</td>\n",
       "      <td>2011-02-03 08:34:04</td>\n",
       "      <td>3</td>\n",
       "    </tr>\n",
       "    <tr>\n",
       "      <th>9</th>\n",
       "      <td>43.708530</td>\n",
       "      <td>10.403600</td>\n",
       "      <td>2011-02-03 09:34:04</td>\n",
       "      <td>3</td>\n",
       "    </tr>\n",
       "    <tr>\n",
       "      <th>10</th>\n",
       "      <td>43.843014</td>\n",
       "      <td>10.507994</td>\n",
       "      <td>2011-02-04 10:34:04</td>\n",
       "      <td>3</td>\n",
       "    </tr>\n",
       "    <tr>\n",
       "      <th>11</th>\n",
       "      <td>43.779250</td>\n",
       "      <td>11.246260</td>\n",
       "      <td>2011-02-04 11:34:04</td>\n",
       "      <td>3</td>\n",
       "    </tr>\n",
       "    <tr>\n",
       "      <th>12</th>\n",
       "      <td>43.708530</td>\n",
       "      <td>10.403600</td>\n",
       "      <td>2011-02-04 10:34:04</td>\n",
       "      <td>4</td>\n",
       "    </tr>\n",
       "    <tr>\n",
       "      <th>13</th>\n",
       "      <td>43.544270</td>\n",
       "      <td>10.326150</td>\n",
       "      <td>2011-02-04 11:34:04</td>\n",
       "      <td>4</td>\n",
       "    </tr>\n",
       "    <tr>\n",
       "      <th>14</th>\n",
       "      <td>43.779250</td>\n",
       "      <td>11.246260</td>\n",
       "      <td>2011-02-04 12:34:04</td>\n",
       "      <td>4</td>\n",
       "    </tr>\n",
       "    <tr>\n",
       "      <th>15</th>\n",
       "      <td>43.708530</td>\n",
       "      <td>10.403600</td>\n",
       "      <td>2011-02-04 10:34:04</td>\n",
       "      <td>5</td>\n",
       "    </tr>\n",
       "    <tr>\n",
       "      <th>16</th>\n",
       "      <td>43.779250</td>\n",
       "      <td>11.246260</td>\n",
       "      <td>2011-02-04 11:34:04</td>\n",
       "      <td>5</td>\n",
       "    </tr>\n",
       "    <tr>\n",
       "      <th>17</th>\n",
       "      <td>43.843014</td>\n",
       "      <td>10.507994</td>\n",
       "      <td>2011-02-05 12:34:04</td>\n",
       "      <td>5</td>\n",
       "    </tr>\n",
       "    <tr>\n",
       "      <th>18</th>\n",
       "      <td>43.843014</td>\n",
       "      <td>10.507994</td>\n",
       "      <td>2011-02-04 10:34:04</td>\n",
       "      <td>6</td>\n",
       "    </tr>\n",
       "    <tr>\n",
       "      <th>19</th>\n",
       "      <td>43.544270</td>\n",
       "      <td>10.326150</td>\n",
       "      <td>2011-02-04 11:34:04</td>\n",
       "      <td>6</td>\n",
       "    </tr>\n",
       "    <tr>\n",
       "      <th>20</th>\n",
       "      <td>43.843014</td>\n",
       "      <td>10.507994</td>\n",
       "      <td>2011-02-04 10:34:04</td>\n",
       "      <td>7</td>\n",
       "    </tr>\n",
       "    <tr>\n",
       "      <th>21</th>\n",
       "      <td>43.843014</td>\n",
       "      <td>10.507994</td>\n",
       "      <td>2011-02-04 11:34:04</td>\n",
       "      <td>7</td>\n",
       "    </tr>\n",
       "    <tr>\n",
       "      <th>22</th>\n",
       "      <td>43.779250</td>\n",
       "      <td>11.246260</td>\n",
       "      <td>2011-02-05 12:34:04</td>\n",
       "      <td>7</td>\n",
       "    </tr>\n",
       "  </tbody>\n",
       "</table>\n",
       "</div>"
      ],
      "text/plain": [
       "          lat        lng            datetime  uid\n",
       "0   43.843014  10.507994 2011-02-03 08:34:04    1\n",
       "1   43.544270  10.326150 2011-02-03 09:34:04    1\n",
       "2   43.708530  10.403600 2011-02-03 10:34:04    1\n",
       "3   43.779250  11.246260 2011-02-04 10:34:04    1\n",
       "4   43.843014  10.507994 2011-02-03 08:34:04    2\n",
       "5   43.708530  10.403600 2011-02-03 09:34:04    2\n",
       "6   43.843014  10.507994 2011-02-04 10:34:04    2\n",
       "7   43.544270  10.326150 2011-02-04 11:34:04    2\n",
       "8   43.544270  10.326150 2011-02-03 08:34:04    3\n",
       "9   43.708530  10.403600 2011-02-03 09:34:04    3\n",
       "10  43.843014  10.507994 2011-02-04 10:34:04    3\n",
       "11  43.779250  11.246260 2011-02-04 11:34:04    3\n",
       "12  43.708530  10.403600 2011-02-04 10:34:04    4\n",
       "13  43.544270  10.326150 2011-02-04 11:34:04    4\n",
       "14  43.779250  11.246260 2011-02-04 12:34:04    4\n",
       "15  43.708530  10.403600 2011-02-04 10:34:04    5\n",
       "16  43.779250  11.246260 2011-02-04 11:34:04    5\n",
       "17  43.843014  10.507994 2011-02-05 12:34:04    5\n",
       "18  43.843014  10.507994 2011-02-04 10:34:04    6\n",
       "19  43.544270  10.326150 2011-02-04 11:34:04    6\n",
       "20  43.843014  10.507994 2011-02-04 10:34:04    7\n",
       "21  43.843014  10.507994 2011-02-04 11:34:04    7\n",
       "22  43.779250  11.246260 2011-02-05 12:34:04    7"
      ]
     },
     "execution_count": 32,
     "metadata": {},
     "output_type": "execute_result"
    }
   ],
   "source": [
    "toy"
   ]
  },
  {
   "cell_type": "code",
   "execution_count": 34,
   "metadata": {
    "slideshow": {
     "slide_type": "slide"
    }
   },
   "outputs": [
    {
     "data": {
      "text/html": [
       "<div>\n",
       "<style scoped>\n",
       "    .dataframe tbody tr th:only-of-type {\n",
       "        vertical-align: middle;\n",
       "    }\n",
       "\n",
       "    .dataframe tbody tr th {\n",
       "        vertical-align: top;\n",
       "    }\n",
       "\n",
       "    .dataframe thead th {\n",
       "        text-align: right;\n",
       "    }\n",
       "</style>\n",
       "<table border=\"1\" class=\"dataframe\">\n",
       "  <thead>\n",
       "    <tr style=\"text-align: right;\">\n",
       "      <th></th>\n",
       "      <th>lat</th>\n",
       "      <th>lng</th>\n",
       "      <th>datetime</th>\n",
       "      <th>uid</th>\n",
       "      <th>instance</th>\n",
       "      <th>instance_elem</th>\n",
       "      <th>prob</th>\n",
       "    </tr>\n",
       "  </thead>\n",
       "  <tbody>\n",
       "    <tr>\n",
       "      <th>0</th>\n",
       "      <td>43.843014</td>\n",
       "      <td>10.507994</td>\n",
       "      <td>2011-02-03 08:34:04</td>\n",
       "      <td>1</td>\n",
       "      <td>1</td>\n",
       "      <td>1</td>\n",
       "      <td>0.250000</td>\n",
       "    </tr>\n",
       "    <tr>\n",
       "      <th>1</th>\n",
       "      <td>43.544270</td>\n",
       "      <td>10.326150</td>\n",
       "      <td>2011-02-03 09:34:04</td>\n",
       "      <td>1</td>\n",
       "      <td>1</td>\n",
       "      <td>2</td>\n",
       "      <td>0.250000</td>\n",
       "    </tr>\n",
       "    <tr>\n",
       "      <th>2</th>\n",
       "      <td>43.843014</td>\n",
       "      <td>10.507994</td>\n",
       "      <td>2011-02-03 08:34:04</td>\n",
       "      <td>1</td>\n",
       "      <td>2</td>\n",
       "      <td>1</td>\n",
       "      <td>0.250000</td>\n",
       "    </tr>\n",
       "    <tr>\n",
       "      <th>3</th>\n",
       "      <td>43.708530</td>\n",
       "      <td>10.403600</td>\n",
       "      <td>2011-02-03 10:34:04</td>\n",
       "      <td>1</td>\n",
       "      <td>2</td>\n",
       "      <td>2</td>\n",
       "      <td>0.250000</td>\n",
       "    </tr>\n",
       "    <tr>\n",
       "      <th>4</th>\n",
       "      <td>43.843014</td>\n",
       "      <td>10.507994</td>\n",
       "      <td>2011-02-03 08:34:04</td>\n",
       "      <td>1</td>\n",
       "      <td>3</td>\n",
       "      <td>1</td>\n",
       "      <td>0.250000</td>\n",
       "    </tr>\n",
       "    <tr>\n",
       "      <th>5</th>\n",
       "      <td>43.779250</td>\n",
       "      <td>11.246260</td>\n",
       "      <td>2011-02-04 10:34:04</td>\n",
       "      <td>1</td>\n",
       "      <td>3</td>\n",
       "      <td>2</td>\n",
       "      <td>0.250000</td>\n",
       "    </tr>\n",
       "    <tr>\n",
       "      <th>6</th>\n",
       "      <td>43.544270</td>\n",
       "      <td>10.326150</td>\n",
       "      <td>2011-02-03 09:34:04</td>\n",
       "      <td>1</td>\n",
       "      <td>4</td>\n",
       "      <td>1</td>\n",
       "      <td>0.250000</td>\n",
       "    </tr>\n",
       "    <tr>\n",
       "      <th>7</th>\n",
       "      <td>43.708530</td>\n",
       "      <td>10.403600</td>\n",
       "      <td>2011-02-03 10:34:04</td>\n",
       "      <td>1</td>\n",
       "      <td>4</td>\n",
       "      <td>2</td>\n",
       "      <td>0.250000</td>\n",
       "    </tr>\n",
       "    <tr>\n",
       "      <th>8</th>\n",
       "      <td>43.544270</td>\n",
       "      <td>10.326150</td>\n",
       "      <td>2011-02-03 09:34:04</td>\n",
       "      <td>1</td>\n",
       "      <td>5</td>\n",
       "      <td>1</td>\n",
       "      <td>0.333333</td>\n",
       "    </tr>\n",
       "    <tr>\n",
       "      <th>9</th>\n",
       "      <td>43.779250</td>\n",
       "      <td>11.246260</td>\n",
       "      <td>2011-02-04 10:34:04</td>\n",
       "      <td>1</td>\n",
       "      <td>5</td>\n",
       "      <td>2</td>\n",
       "      <td>0.333333</td>\n",
       "    </tr>\n",
       "    <tr>\n",
       "      <th>10</th>\n",
       "      <td>43.708530</td>\n",
       "      <td>10.403600</td>\n",
       "      <td>2011-02-03 10:34:04</td>\n",
       "      <td>1</td>\n",
       "      <td>6</td>\n",
       "      <td>1</td>\n",
       "      <td>0.250000</td>\n",
       "    </tr>\n",
       "    <tr>\n",
       "      <th>11</th>\n",
       "      <td>43.779250</td>\n",
       "      <td>11.246260</td>\n",
       "      <td>2011-02-04 10:34:04</td>\n",
       "      <td>1</td>\n",
       "      <td>6</td>\n",
       "      <td>2</td>\n",
       "      <td>0.250000</td>\n",
       "    </tr>\n",
       "  </tbody>\n",
       "</table>\n",
       "</div>"
      ],
      "text/plain": [
       "          lat        lng            datetime  uid  instance  instance_elem  \\\n",
       "0   43.843014  10.507994 2011-02-03 08:34:04    1         1              1   \n",
       "1   43.544270  10.326150 2011-02-03 09:34:04    1         1              2   \n",
       "2   43.843014  10.507994 2011-02-03 08:34:04    1         2              1   \n",
       "3   43.708530  10.403600 2011-02-03 10:34:04    1         2              2   \n",
       "4   43.843014  10.507994 2011-02-03 08:34:04    1         3              1   \n",
       "5   43.779250  11.246260 2011-02-04 10:34:04    1         3              2   \n",
       "6   43.544270  10.326150 2011-02-03 09:34:04    1         4              1   \n",
       "7   43.708530  10.403600 2011-02-03 10:34:04    1         4              2   \n",
       "8   43.544270  10.326150 2011-02-03 09:34:04    1         5              1   \n",
       "9   43.779250  11.246260 2011-02-04 10:34:04    1         5              2   \n",
       "10  43.708530  10.403600 2011-02-03 10:34:04    1         6              1   \n",
       "11  43.779250  11.246260 2011-02-04 10:34:04    1         6              2   \n",
       "\n",
       "        prob  \n",
       "0   0.250000  \n",
       "1   0.250000  \n",
       "2   0.250000  \n",
       "3   0.250000  \n",
       "4   0.250000  \n",
       "5   0.250000  \n",
       "6   0.250000  \n",
       "7   0.250000  \n",
       "8   0.333333  \n",
       "9   0.333333  \n",
       "10  0.250000  \n",
       "11  0.250000  "
      ]
     },
     "execution_count": 34,
     "metadata": {},
     "output_type": "execute_result"
    }
   ],
   "source": [
    "at = attacks.LocationAttack(knowledge_length=2)\n",
    "r_toy = at.assess_risk(toy, targets=[1], force_instances=True)\n",
    "r_toy"
   ]
  },
  {
   "cell_type": "markdown",
   "metadata": {
    "slideshow": {
     "slide_type": "slide"
    }
   },
   "source": [
    "The background knowledge for a Location Attack consists of locations, with no information about the order of visits to it.\n",
    "If we look at the first background knowledge instance, the information used is then:"
   ]
  },
  {
   "cell_type": "code",
   "execution_count": 39,
   "metadata": {},
   "outputs": [
    {
     "data": {
      "text/html": [
       "<div>\n",
       "<style scoped>\n",
       "    .dataframe tbody tr th:only-of-type {\n",
       "        vertical-align: middle;\n",
       "    }\n",
       "\n",
       "    .dataframe tbody tr th {\n",
       "        vertical-align: top;\n",
       "    }\n",
       "\n",
       "    .dataframe thead th {\n",
       "        text-align: right;\n",
       "    }\n",
       "</style>\n",
       "<table border=\"1\" class=\"dataframe\">\n",
       "  <thead>\n",
       "    <tr style=\"text-align: right;\">\n",
       "      <th></th>\n",
       "      <th>lat</th>\n",
       "      <th>lng</th>\n",
       "    </tr>\n",
       "  </thead>\n",
       "  <tbody>\n",
       "    <tr>\n",
       "      <th>0</th>\n",
       "      <td>43.843014</td>\n",
       "      <td>10.507994</td>\n",
       "    </tr>\n",
       "    <tr>\n",
       "      <th>1</th>\n",
       "      <td>43.544270</td>\n",
       "      <td>10.326150</td>\n",
       "    </tr>\n",
       "  </tbody>\n",
       "</table>\n",
       "</div>"
      ],
      "text/plain": [
       "         lat        lng\n",
       "0  43.843014  10.507994\n",
       "1  43.544270  10.326150"
      ]
     },
     "execution_count": 39,
     "metadata": {},
     "output_type": "execute_result"
    }
   ],
   "source": [
    "from skmob.utils import constants\n",
    "toy[toy[constants.UID] == 1][[constants.LATITUDE, \n",
    "                                    constants.LONGITUDE]].iloc[0:2]"
   ]
  },
  {
   "cell_type": "markdown",
   "metadata": {},
   "source": [
    "We can clearly see that the matches for this instance are individuals 1, 2, 3 and 6"
   ]
  },
  {
   "cell_type": "code",
   "execution_count": 40,
   "metadata": {
    "slideshow": {
     "slide_type": "slide"
    }
   },
   "outputs": [
    {
     "data": {
      "text/html": [
       "<div>\n",
       "<style scoped>\n",
       "    .dataframe tbody tr th:only-of-type {\n",
       "        vertical-align: middle;\n",
       "    }\n",
       "\n",
       "    .dataframe tbody tr th {\n",
       "        vertical-align: top;\n",
       "    }\n",
       "\n",
       "    .dataframe thead th {\n",
       "        text-align: right;\n",
       "    }\n",
       "</style>\n",
       "<table border=\"1\" class=\"dataframe\">\n",
       "  <thead>\n",
       "    <tr style=\"text-align: right;\">\n",
       "      <th></th>\n",
       "      <th>lat</th>\n",
       "      <th>lng</th>\n",
       "      <th>datetime</th>\n",
       "      <th>uid</th>\n",
       "    </tr>\n",
       "  </thead>\n",
       "  <tbody>\n",
       "    <tr>\n",
       "      <th>0</th>\n",
       "      <td>43.843014</td>\n",
       "      <td>10.507994</td>\n",
       "      <td>2011-02-03 08:34:04</td>\n",
       "      <td>1</td>\n",
       "    </tr>\n",
       "    <tr>\n",
       "      <th>1</th>\n",
       "      <td>43.544270</td>\n",
       "      <td>10.326150</td>\n",
       "      <td>2011-02-03 09:34:04</td>\n",
       "      <td>1</td>\n",
       "    </tr>\n",
       "    <tr>\n",
       "      <th>2</th>\n",
       "      <td>43.708530</td>\n",
       "      <td>10.403600</td>\n",
       "      <td>2011-02-03 10:34:04</td>\n",
       "      <td>1</td>\n",
       "    </tr>\n",
       "    <tr>\n",
       "      <th>3</th>\n",
       "      <td>43.779250</td>\n",
       "      <td>11.246260</td>\n",
       "      <td>2011-02-04 10:34:04</td>\n",
       "      <td>1</td>\n",
       "    </tr>\n",
       "    <tr>\n",
       "      <th>4</th>\n",
       "      <td>43.843014</td>\n",
       "      <td>10.507994</td>\n",
       "      <td>2011-02-03 08:34:04</td>\n",
       "      <td>2</td>\n",
       "    </tr>\n",
       "    <tr>\n",
       "      <th>5</th>\n",
       "      <td>43.708530</td>\n",
       "      <td>10.403600</td>\n",
       "      <td>2011-02-03 09:34:04</td>\n",
       "      <td>2</td>\n",
       "    </tr>\n",
       "    <tr>\n",
       "      <th>6</th>\n",
       "      <td>43.843014</td>\n",
       "      <td>10.507994</td>\n",
       "      <td>2011-02-04 10:34:04</td>\n",
       "      <td>2</td>\n",
       "    </tr>\n",
       "    <tr>\n",
       "      <th>7</th>\n",
       "      <td>43.544270</td>\n",
       "      <td>10.326150</td>\n",
       "      <td>2011-02-04 11:34:04</td>\n",
       "      <td>2</td>\n",
       "    </tr>\n",
       "    <tr>\n",
       "      <th>8</th>\n",
       "      <td>43.544270</td>\n",
       "      <td>10.326150</td>\n",
       "      <td>2011-02-03 08:34:04</td>\n",
       "      <td>3</td>\n",
       "    </tr>\n",
       "    <tr>\n",
       "      <th>9</th>\n",
       "      <td>43.708530</td>\n",
       "      <td>10.403600</td>\n",
       "      <td>2011-02-03 09:34:04</td>\n",
       "      <td>3</td>\n",
       "    </tr>\n",
       "    <tr>\n",
       "      <th>10</th>\n",
       "      <td>43.843014</td>\n",
       "      <td>10.507994</td>\n",
       "      <td>2011-02-04 10:34:04</td>\n",
       "      <td>3</td>\n",
       "    </tr>\n",
       "    <tr>\n",
       "      <th>11</th>\n",
       "      <td>43.779250</td>\n",
       "      <td>11.246260</td>\n",
       "      <td>2011-02-04 11:34:04</td>\n",
       "      <td>3</td>\n",
       "    </tr>\n",
       "    <tr>\n",
       "      <th>18</th>\n",
       "      <td>43.843014</td>\n",
       "      <td>10.507994</td>\n",
       "      <td>2011-02-04 10:34:04</td>\n",
       "      <td>6</td>\n",
       "    </tr>\n",
       "    <tr>\n",
       "      <th>19</th>\n",
       "      <td>43.544270</td>\n",
       "      <td>10.326150</td>\n",
       "      <td>2011-02-04 11:34:04</td>\n",
       "      <td>6</td>\n",
       "    </tr>\n",
       "  </tbody>\n",
       "</table>\n",
       "</div>"
      ],
      "text/plain": [
       "          lat        lng            datetime  uid\n",
       "0   43.843014  10.507994 2011-02-03 08:34:04    1\n",
       "1   43.544270  10.326150 2011-02-03 09:34:04    1\n",
       "2   43.708530  10.403600 2011-02-03 10:34:04    1\n",
       "3   43.779250  11.246260 2011-02-04 10:34:04    1\n",
       "4   43.843014  10.507994 2011-02-03 08:34:04    2\n",
       "5   43.708530  10.403600 2011-02-03 09:34:04    2\n",
       "6   43.843014  10.507994 2011-02-04 10:34:04    2\n",
       "7   43.544270  10.326150 2011-02-04 11:34:04    2\n",
       "8   43.544270  10.326150 2011-02-03 08:34:04    3\n",
       "9   43.708530  10.403600 2011-02-03 09:34:04    3\n",
       "10  43.843014  10.507994 2011-02-04 10:34:04    3\n",
       "11  43.779250  11.246260 2011-02-04 11:34:04    3\n",
       "18  43.843014  10.507994 2011-02-04 10:34:04    6\n",
       "19  43.544270  10.326150 2011-02-04 11:34:04    6"
      ]
     },
     "execution_count": 40,
     "metadata": {},
     "output_type": "execute_result"
    }
   ],
   "source": [
    "toy[toy[constants.UID].isin([1,2,3,6])]"
   ]
  },
  {
   "cell_type": "markdown",
   "metadata": {
    "pycharm": {},
    "slideshow": {
     "slide_type": "slide"
    }
   },
   "source": [
    "## Additional parameters for attacks\n",
    "\n",
    "Some attacks, such as `LocationTimeAttack` for example, need some additional parameters for initialization. The detail of each attack can be found in the documentation. Let's see an example of a powerful attack.\n",
    "\n",
    "`LocationTimeAttack` uses the informaton about the location visited and the time of visit "
   ]
  },
  {
   "cell_type": "code",
   "execution_count": 41,
   "metadata": {
    "pycharm": {},
    "slideshow": {
     "slide_type": "-"
    }
   },
   "outputs": [],
   "source": [
    "at = attacks.LocationTimeAttack(knowledge_length=2, time_precision=\"Day\")"
   ]
  },
  {
   "cell_type": "markdown",
   "metadata": {
    "slideshow": {
     "slide_type": "fragment"
    }
   },
   "source": [
    "We specify the precision with witch to consider the temporal information of the trajectories"
   ]
  },
  {
   "cell_type": "code",
   "execution_count": 45,
   "metadata": {
    "pycharm": {},
    "scrolled": false,
    "slideshow": {
     "slide_type": "-"
    }
   },
   "outputs": [],
   "source": [
    "r_time = at.assess_risk(privacy_trjs_tr)"
   ]
  },
  {
   "cell_type": "code",
   "execution_count": 46,
   "metadata": {
    "slideshow": {
     "slide_type": "slide"
    }
   },
   "outputs": [
    {
     "data": {
      "text/html": [
       "<div>\n",
       "<style scoped>\n",
       "    .dataframe tbody tr th:only-of-type {\n",
       "        vertical-align: middle;\n",
       "    }\n",
       "\n",
       "    .dataframe tbody tr th {\n",
       "        vertical-align: top;\n",
       "    }\n",
       "\n",
       "    .dataframe thead th {\n",
       "        text-align: right;\n",
       "    }\n",
       "</style>\n",
       "<table border=\"1\" class=\"dataframe\">\n",
       "  <thead>\n",
       "    <tr style=\"text-align: right;\">\n",
       "      <th></th>\n",
       "      <th>uid</th>\n",
       "      <th>risk</th>\n",
       "    </tr>\n",
       "  </thead>\n",
       "  <tbody>\n",
       "    <tr>\n",
       "      <th>0</th>\n",
       "      <td>0</td>\n",
       "      <td>1.0</td>\n",
       "    </tr>\n",
       "    <tr>\n",
       "      <th>1</th>\n",
       "      <td>1</td>\n",
       "      <td>1.0</td>\n",
       "    </tr>\n",
       "    <tr>\n",
       "      <th>2</th>\n",
       "      <td>2</td>\n",
       "      <td>1.0</td>\n",
       "    </tr>\n",
       "    <tr>\n",
       "      <th>3</th>\n",
       "      <td>3</td>\n",
       "      <td>1.0</td>\n",
       "    </tr>\n",
       "    <tr>\n",
       "      <th>4</th>\n",
       "      <td>4</td>\n",
       "      <td>1.0</td>\n",
       "    </tr>\n",
       "    <tr>\n",
       "      <th>5</th>\n",
       "      <td>7</td>\n",
       "      <td>1.0</td>\n",
       "    </tr>\n",
       "    <tr>\n",
       "      <th>6</th>\n",
       "      <td>10</td>\n",
       "      <td>1.0</td>\n",
       "    </tr>\n",
       "    <tr>\n",
       "      <th>7</th>\n",
       "      <td>11</td>\n",
       "      <td>1.0</td>\n",
       "    </tr>\n",
       "    <tr>\n",
       "      <th>8</th>\n",
       "      <td>12</td>\n",
       "      <td>1.0</td>\n",
       "    </tr>\n",
       "    <tr>\n",
       "      <th>9</th>\n",
       "      <td>13</td>\n",
       "      <td>1.0</td>\n",
       "    </tr>\n",
       "    <tr>\n",
       "      <th>10</th>\n",
       "      <td>14</td>\n",
       "      <td>1.0</td>\n",
       "    </tr>\n",
       "    <tr>\n",
       "      <th>11</th>\n",
       "      <td>16</td>\n",
       "      <td>1.0</td>\n",
       "    </tr>\n",
       "    <tr>\n",
       "      <th>12</th>\n",
       "      <td>17</td>\n",
       "      <td>1.0</td>\n",
       "    </tr>\n",
       "    <tr>\n",
       "      <th>13</th>\n",
       "      <td>18</td>\n",
       "      <td>1.0</td>\n",
       "    </tr>\n",
       "    <tr>\n",
       "      <th>14</th>\n",
       "      <td>19</td>\n",
       "      <td>1.0</td>\n",
       "    </tr>\n",
       "    <tr>\n",
       "      <th>15</th>\n",
       "      <td>22</td>\n",
       "      <td>1.0</td>\n",
       "    </tr>\n",
       "    <tr>\n",
       "      <th>16</th>\n",
       "      <td>24</td>\n",
       "      <td>1.0</td>\n",
       "    </tr>\n",
       "    <tr>\n",
       "      <th>17</th>\n",
       "      <td>25</td>\n",
       "      <td>1.0</td>\n",
       "    </tr>\n",
       "    <tr>\n",
       "      <th>18</th>\n",
       "      <td>26</td>\n",
       "      <td>1.0</td>\n",
       "    </tr>\n",
       "    <tr>\n",
       "      <th>19</th>\n",
       "      <td>28</td>\n",
       "      <td>1.0</td>\n",
       "    </tr>\n",
       "  </tbody>\n",
       "</table>\n",
       "</div>"
      ],
      "text/plain": [
       "    uid  risk\n",
       "0     0   1.0\n",
       "1     1   1.0\n",
       "2     2   1.0\n",
       "3     3   1.0\n",
       "4     4   1.0\n",
       "5     7   1.0\n",
       "6    10   1.0\n",
       "7    11   1.0\n",
       "8    12   1.0\n",
       "9    13   1.0\n",
       "10   14   1.0\n",
       "11   16   1.0\n",
       "12   17   1.0\n",
       "13   18   1.0\n",
       "14   19   1.0\n",
       "15   22   1.0\n",
       "16   24   1.0\n",
       "17   25   1.0\n",
       "18   26   1.0\n",
       "19   28   1.0"
      ]
     },
     "execution_count": 46,
     "metadata": {},
     "output_type": "execute_result"
    }
   ],
   "source": [
    "r_time"
   ]
  },
  {
   "cell_type": "code",
   "execution_count": 47,
   "metadata": {
    "slideshow": {
     "slide_type": "fragment"
    }
   },
   "outputs": [
    {
     "data": {
      "text/html": [
       "<div>\n",
       "<style scoped>\n",
       "    .dataframe tbody tr th:only-of-type {\n",
       "        vertical-align: middle;\n",
       "    }\n",
       "\n",
       "    .dataframe tbody tr th {\n",
       "        vertical-align: top;\n",
       "    }\n",
       "\n",
       "    .dataframe thead th {\n",
       "        text-align: right;\n",
       "    }\n",
       "</style>\n",
       "<table border=\"1\" class=\"dataframe\">\n",
       "  <thead>\n",
       "    <tr style=\"text-align: right;\">\n",
       "      <th></th>\n",
       "      <th>uid</th>\n",
       "      <th>risk</th>\n",
       "    </tr>\n",
       "  </thead>\n",
       "  <tbody>\n",
       "  </tbody>\n",
       "</table>\n",
       "</div>"
      ],
      "text/plain": [
       "Empty DataFrame\n",
       "Columns: [uid, risk]\n",
       "Index: []"
      ]
     },
     "execution_count": 47,
     "metadata": {},
     "output_type": "execute_result"
    }
   ],
   "source": [
    "r[r[\"risk\"] < 1]"
   ]
  },
  {
   "cell_type": "markdown",
   "metadata": {},
   "source": [
    "We can see that, for powerful attacks, risk can be really high, despite our efforts to generalize trajectories"
   ]
  },
  {
   "cell_type": "markdown",
   "metadata": {
    "pycharm": {},
    "slideshow": {
     "slide_type": "slide"
    }
   },
   "source": [
    "## Visualizing and understanding risk\n",
    "Risk may be visualized in many different ways. A very simple and intuitive way is a cumulative distribution function."
   ]
  },
  {
   "cell_type": "code",
   "execution_count": 50,
   "metadata": {},
   "outputs": [],
   "source": [
    "import numpy as np\n",
    "import matplotlib.pyplot as plt"
   ]
  },
  {
   "cell_type": "code",
   "execution_count": 104,
   "metadata": {
    "pycharm": {},
    "slideshow": {
     "slide_type": "fragment"
    }
   },
   "outputs": [],
   "source": [
    "results = [r2,r3,r_time]\n",
    "colors = [\"red\",\"blue\",\"green\"]\n",
    "styles = [\"-\",\"--\",\":\"]\n",
    "labels = [\"Frequency k2\", \"Frequency k3\", \"Location Time k2 Hour\"]\n",
    "fontsize = 20"
   ]
  },
  {
   "cell_type": "code",
   "execution_count": 108,
   "metadata": {
    "code_folding": [
     3
    ],
    "slideshow": {
     "slide_type": "slide"
    }
   },
   "outputs": [
    {
     "data": {
      "image/png": "[encoded data removed]",
      "text/plain": [
       "<Figure size 864x576 with 1 Axes>"
      ]
     },
     "metadata": {
      "needs_background": "light"
     },
     "output_type": "display_data"
    }
   ],
   "source": [
    "plt.figure(figsize=(12,8))\n",
    "for i in range(0,len(results)):\n",
    "    data = results[i][\"risk\"].tolist()\n",
    "    values, base = np.histogram(data, bins=1000)\n",
    "    cumulative = np.cumsum(values)\n",
    "    plt.plot(base[:-1],cumulative/len(data), c=colors[i], label=labels[i], linestyle=styles[i],linewidth=3)\n",
    "plt.xlim(0,1.1)\n",
    "plt.xlabel(\"risk\",size=fontsize)\n",
    "plt.ylabel(\"p(risk)\", size=fontsize)\n",
    "plt.xticks(size=fontsize-5)\n",
    "plt.yticks(size=fontsize-5)\n",
    "plt.grid(alpha=0.25)\n",
    "plt.figlegend(labels, loc = 'lower center',bbox_to_anchor=(0.45, -0.01), ncol=3,  fontsize = fontsize-5, labelspacing=0. )\n",
    "plt.show()"
   ]
  },
  {
   "cell_type": "markdown",
   "metadata": {
    "slideshow": {
     "slide_type": "slide"
    }
   },
   "source": [
    "# Conclusions\n",
    "- Evaluating risk is not an immediate task. It depends on the kind of data you are using, on the purpose of your analysis, on the properties you want to maintain.\n",
    "- Privacy risk has to be explored thoroughly with different attack models and different configurations\n",
    "- For mobility data preprocessing data is paramount. Risk assessment can be performed with diversely processed data in order to understand the \"best\" format for release"
   ]
  }
 ],
 "metadata": {
  "celltoolbar": "Slideshow",
  "hide_input": false,
  "kernelspec": {
   "display_name": "Python 3",
   "language": "python",
   "name": "python3"
  },
  "language_info": {
   "codemirror_mode": {
    "name": "ipython",
    "version": 3
   },
   "file_extension": ".py",
   "mimetype": "text/x-python",
   "name": "python",
   "nbconvert_exporter": "python",
   "pygments_lexer": "ipython3",
   "version": "3.5.2"
  },
  "latex_envs": {
   "LaTeX_envs_menu_present": true,
   "autoclose": false,
   "autocomplete": true,
   "bibliofile": "biblio.bib",
   "cite_by": "apalike",
   "current_citInitial": 1,
   "eqLabelWithNumbers": true,
   "eqNumInitial": 1,
   "hotkeys": {
    "equation": "Ctrl-E",
    "itemize": "Ctrl-I"
   },
   "labels_anchors": false,
   "latex_user_defs": false,
   "report_style_numbering": true,
   "user_envs_cfg": false
  }
 },
 "nbformat": 4,
 "nbformat_minor": 2
}
