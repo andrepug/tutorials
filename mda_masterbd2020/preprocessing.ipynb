{
 "cells": [
  {
   "cell_type": "markdown",
   "metadata": {
    "slideshow": {
     "slide_type": "slide"
    }
   },
   "source": [
    "<center><img src=\"logo_skmob.png\" width=450 align=\"left\" /></center>\n",
    "\n",
    "# Preprocessing mobility data\n",
    "\n",
    "- Repo: [http://bit.ly/skmob_repo](http://bit.ly/skmob_repo)\n",
    "- Docs: [http://bit.ly/skmob_doc](http://bit.ly/skmob_doc)\n",
    "- Paper: [http://bit.ly/skmob_paper](http://bit.ly/skmob_paper)\n",
    "\n"
   ]
  },
  {
   "cell_type": "markdown",
   "metadata": {
    "slideshow": {
     "slide_type": "slide"
    }
   },
   "source": [
    "### GPS: the [GeoLife dataset](https://www.microsoft.com/en-us/download/details.aspx?id=52367)\n",
    "\n",
    "collected in (Microsoft Research Asia) **GeoLife** project by 182 users in the period Apr 2007 - Aug 2012.\n",
    "\n",
    "- 17,621 trajectories\n",
    "- total distance of about 1.2 million kilometers \n",
    "- total duration of 48,000+ hours."
   ]
  },
  {
   "cell_type": "code",
   "execution_count": null,
   "metadata": {
    "slideshow": {
     "slide_type": "slide"
    }
   },
   "outputs": [],
   "source": [
    "# import the skmob and pandas libraries\n",
    "import skmob\n",
    "import pandas as pd\n",
    "import warnings\n",
    "warnings.filterwarnings('ignore')"
   ]
  },
  {
   "cell_type": "code",
   "execution_count": null,
   "metadata": {
    "slideshow": {
     "slide_type": "fragment"
    }
   },
   "outputs": [],
   "source": [
    "tdf = skmob.TrajDataFrame.from_file('data/geolife_sample.txt.gz').sort_values(by='datetime')\n",
    "print(type(tdf))\n",
    "print(tdf.crs, tdf.parameters)\n",
    "tdf.head()"
   ]
  },
  {
   "cell_type": "code",
   "execution_count": null,
   "metadata": {
    "slideshow": {
     "slide_type": "subslide"
    }
   },
   "outputs": [],
   "source": [
    "tdf.plot_trajectory(zoom=12, weight=3, opacity=0.9, tiles='Stamen Toner',\n",
    "                    start_end_markers=False)"
   ]
  },
  {
   "cell_type": "markdown",
   "metadata": {
    "slideshow": {
     "slide_type": "subslide"
    }
   },
   "source": [
    "- How many users in the data set?\n",
    "- How many points?\n",
    "- What's the time window?"
   ]
  },
  {
   "cell_type": "code",
   "execution_count": null,
   "metadata": {
    "slideshow": {
     "slide_type": "fragment"
    }
   },
   "outputs": [],
   "source": [
    "print('# users: %s' %len(tdf.uid.unique()))\n",
    "print('# points: %s' %len(tdf))\n",
    "print('time window: %s' \n",
    "      %(tdf.iloc[-1].datetime - tdf.iloc[0].datetime))"
   ]
  },
  {
   "cell_type": "markdown",
   "metadata": {
    "slideshow": {
     "slide_type": "slide"
    }
   },
   "source": [
    "## Let's focus on a single user\n",
    "using the *select* operation as we do in **pandas**"
   ]
  },
  {
   "cell_type": "code",
   "execution_count": null,
   "metadata": {
    "slideshow": {
     "slide_type": "fragment"
    }
   },
   "outputs": [],
   "source": [
    "user1_tdf = tdf[tdf.uid == 1]\n",
    "user1_tdf.head()"
   ]
  },
  {
   "cell_type": "code",
   "execution_count": null,
   "metadata": {
    "scrolled": true,
    "slideshow": {
     "slide_type": "subslide"
    }
   },
   "outputs": [],
   "source": [
    "user1_map = user1_tdf.plot_trajectory(zoom=11, weight=3, hex_color='black',\n",
    "                                      tiles='Open Street Map')\n",
    "user1_map"
   ]
  },
  {
   "cell_type": "markdown",
   "metadata": {
    "slideshow": {
     "slide_type": "slide"
    }
   },
   "source": [
    "## Mobility data preprocessing\n",
    "\n",
    "There are 3 common steps we can apply to clean our data:\n",
    "\n",
    "1. Filtering (`filtering.filter`)\n",
    "- Compression (`compression.compress`)\n",
    "- Stop detection (`detection.stops`)\n",
    "- Stops clustering (`clustering.cluster`)\n"
   ]
  },
  {
   "cell_type": "markdown",
   "metadata": {
    "slideshow": {
     "slide_type": "subslide"
    }
   },
   "source": [
    "## Filtering trajectories\n",
    "\n",
    "Filter out points with speed higher than `max_speed` km/h from the previous point."
   ]
  },
  {
   "cell_type": "code",
   "execution_count": null,
   "metadata": {
    "slideshow": {
     "slide_type": "fragment"
    }
   },
   "outputs": [],
   "source": [
    "from skmob.preprocessing import filtering"
   ]
  },
  {
   "cell_type": "code",
   "execution_count": null,
   "metadata": {
    "slideshow": {
     "slide_type": "fragment"
    }
   },
   "outputs": [],
   "source": [
    "max_speed_kmh = 500.\n",
    "user1_f_tdf = filtering.filter(user1_tdf, max_speed_kmh=max_speed_kmh)"
   ]
  },
  {
   "cell_type": "code",
   "execution_count": null,
   "metadata": {
    "slideshow": {
     "slide_type": "fragment"
    }
   },
   "outputs": [],
   "source": [
    "user1_f_tdf.parameters"
   ]
  },
  {
   "cell_type": "markdown",
   "metadata": {
    "slideshow": {
     "slide_type": "subslide"
    }
   },
   "source": [
    "Very few points have been filtered."
   ]
  },
  {
   "cell_type": "code",
   "execution_count": null,
   "metadata": {
    "slideshow": {
     "slide_type": "fragment"
    }
   },
   "outputs": [],
   "source": [
    "print('Filtered points:\\t%s'%(len(user1_tdf) - len(user1_f_tdf)))"
   ]
  },
  {
   "cell_type": "code",
   "execution_count": null,
   "metadata": {
    "slideshow": {
     "slide_type": "fragment"
    }
   },
   "outputs": [],
   "source": [
    "# indicator adds column _merge\n",
    "merged = user1_tdf.merge(user1_f_tdf, indicator=True, how='outer')\n",
    "diff_df = merged[merged['_merge'] == 'left_only']\n",
    "diff_df"
   ]
  },
  {
   "cell_type": "markdown",
   "metadata": {
    "slideshow": {
     "slide_type": "subslide"
    }
   },
   "source": [
    "Extract the filtered points between indexes `25372` and `23377`."
   ]
  },
  {
   "cell_type": "code",
   "execution_count": null,
   "metadata": {
    "slideshow": {
     "slide_type": "fragment"
    }
   },
   "outputs": [],
   "source": [
    "min_index, max_index = 25373, 25376\n",
    "dt_start = user1_tdf.iloc[min_index - 1]['datetime']\n",
    "dt_end = user1_tdf.iloc[max_index + 1]['datetime']\n",
    "\n",
    "filtered_tdf = user1_f_tdf[(user1_f_tdf['datetime'] >= dt_start) \\\n",
    "                 & (user1_f_tdf['datetime'] <= dt_end)]\n",
    "\n",
    "unfiltered_tdf = user1_tdf[(user1_tdf['datetime'] >= dt_start) \\\n",
    "                  & (user1_tdf['datetime'] <= dt_end)]\n",
    "filtered_tdf"
   ]
  },
  {
   "cell_type": "markdown",
   "metadata": {
    "slideshow": {
     "slide_type": "subslide"
    }
   },
   "source": [
    "Compute the speeds between consecutive points on the unfiltered trajectory"
   ]
  },
  {
   "cell_type": "code",
   "execution_count": null,
   "metadata": {
    "slideshow": {
     "slide_type": "fragment"
    }
   },
   "outputs": [],
   "source": [
    "lat_lng_dt = unfiltered_tdf[['lat', 'lng', 'datetime']].values"
   ]
  },
  {
   "cell_type": "code",
   "execution_count": null,
   "metadata": {
    "slideshow": {
     "slide_type": "fragment"
    }
   },
   "outputs": [],
   "source": [
    "# avg speed (km/h) between last not filtered point and following points\n",
    "from  skmob.utils.gislib import getDistance\n",
    "lat0, lng0, dt0 = lat_lng_dt[0]\n",
    "pd.DataFrame(\n",
    "    [[dt0, dt , getDistance((lat, lng), (lat0, lng0)) / ((dt - dt0).seconds / 3600),\n",
    "     getDistance((lat, lng), (lat0, lng0)) / ((dt - dt0).seconds / 3600) > max_speed_kmh] \\\n",
    "     for i, (lat ,lng, dt) in enumerate(lat_lng_dt[1:])], \\\n",
    "             columns=['time 0', 'time 1', 'speed (km/h)', 'to_filter'])"
   ]
  },
  {
   "cell_type": "code",
   "execution_count": null,
   "metadata": {
    "slideshow": {
     "slide_type": "subslide"
    }
   },
   "outputs": [],
   "source": [
    "# Cut a buffer of 10 points around the filtered part\n",
    "dt_start = user1_tdf.iloc[min_index - 10]['datetime']\n",
    "dt_end = user1_tdf.iloc[max_index + 10]['datetime']\n",
    "\n",
    "filtered_tdf = user1_f_tdf[(user1_f_tdf['datetime'] >= dt_start) \\\n",
    "                 & (user1_f_tdf['datetime'] <= dt_end)]\n",
    "\n",
    "unfiltered_tdf = user1_tdf[(user1_tdf['datetime'] >= dt_start) \\\n",
    "                  & (user1_tdf['datetime'] <= dt_end)]\n",
    "filtered_tdf.head()"
   ]
  },
  {
   "cell_type": "code",
   "execution_count": null,
   "metadata": {
    "slideshow": {
     "slide_type": "subslide"
    }
   },
   "outputs": [],
   "source": [
    "map_f = unfiltered_tdf.plot_trajectory(zoom=14, weight=10, opacity=0.5, hex_color='black') #, tiles='Stamen Toner')\n",
    "filtered_tdf.plot_trajectory(map_f=map_f, hex_color='red')"
   ]
  },
  {
   "cell_type": "markdown",
   "metadata": {
    "slideshow": {
     "slide_type": "subslide"
    }
   },
   "source": [
    "## Compressing trajectories\n",
    "\n",
    "Reduce the number of points of the trajectory, preserving the structure."
   ]
  },
  {
   "cell_type": "markdown",
   "metadata": {
    "slideshow": {
     "slide_type": "fragment"
    }
   },
   "source": [
    "Merge together all points that are closer than `spatial_radius_km=0.2` kilometers from each other."
   ]
  },
  {
   "cell_type": "code",
   "execution_count": null,
   "metadata": {
    "slideshow": {
     "slide_type": "subslide"
    }
   },
   "outputs": [],
   "source": [
    "from skmob.preprocessing import compression"
   ]
  },
  {
   "cell_type": "code",
   "execution_count": null,
   "metadata": {
    "slideshow": {
     "slide_type": "fragment"
    }
   },
   "outputs": [],
   "source": [
    "user1_cf_tdf = compression.compress(user1_f_tdf, spatial_radius_km=0.5)\n",
    "user1_cf_tdf.head()"
   ]
  },
  {
   "cell_type": "code",
   "execution_count": null,
   "metadata": {
    "slideshow": {
     "slide_type": "subslide"
    }
   },
   "outputs": [],
   "source": [
    "user1_cf_tdf.parameters"
   ]
  },
  {
   "cell_type": "markdown",
   "metadata": {
    "slideshow": {
     "slide_type": "subslide"
    }
   },
   "source": [
    "The compressed trajectory has only a small fraction of the points of the filtered trajectory."
   ]
  },
  {
   "cell_type": "code",
   "execution_count": null,
   "metadata": {
    "slideshow": {
     "slide_type": "fragment"
    }
   },
   "outputs": [],
   "source": [
    "print('Points of the filtered trajectory:\\t%s'%len(user1_f_tdf))\n",
    "print('Points of the compressed trajectory:\\t%s'%len(user1_cf_tdf))\n",
    "print('Compressed points:\\t\\t\\t%s'%(len(user1_f_tdf)-len(user1_cf_tdf)))"
   ]
  },
  {
   "cell_type": "code",
   "execution_count": null,
   "metadata": {
    "scrolled": true,
    "slideshow": {
     "slide_type": "subslide"
    }
   },
   "outputs": [],
   "source": [
    "end_time = user1_f_tdf.iloc[10000]['datetime']\n",
    "map_f = user1_f_tdf[user1_f_tdf['datetime'] < end_time].plot_trajectory(weight=5, hex_color='black',\n",
    "                                                                      opacity=0.5, start_end_markers=False)\n",
    "user1_cf_tdf[user1_cf_tdf['datetime'] < end_time].plot_trajectory(map_f=map_f, \\\n",
    "                                                  start_end_markers=False, hex_color='red')"
   ]
  },
  {
   "cell_type": "markdown",
   "metadata": {
    "slideshow": {
     "slide_type": "subslide"
    }
   },
   "source": [
    "## Stop detection\n",
    "\n",
    "Identify locations where the user spent at least `minutes_for_a_stop` minutes within a distance `spatial_radius_km` $\\times$ `stop_radius_factor`, from a given point. \n",
    "\n",
    "A new column `leaving_datetime` is added, indicating the time when the user departs from the stop."
   ]
  },
  {
   "cell_type": "code",
   "execution_count": null,
   "metadata": {
    "slideshow": {
     "slide_type": "subslide"
    }
   },
   "outputs": [],
   "source": [
    "from skmob.preprocessing import detection"
   ]
  },
  {
   "cell_type": "code",
   "execution_count": null,
   "metadata": {
    "slideshow": {
     "slide_type": "fragment"
    }
   },
   "outputs": [],
   "source": [
    "user1_scf_tdf = detection.stops(user1_cf_tdf, stop_radius_factor=0.5, \\\n",
    "            minutes_for_a_stop=20.0, spatial_radius_km=0.2, \n",
    "                       leaving_time=True)\n",
    "user1_scf_tdf.head()"
   ]
  },
  {
   "cell_type": "code",
   "execution_count": null,
   "metadata": {
    "slideshow": {
     "slide_type": "subslide"
    }
   },
   "outputs": [],
   "source": [
    "user1_scf_tdf.parameters"
   ]
  },
  {
   "cell_type": "markdown",
   "metadata": {
    "slideshow": {
     "slide_type": "subslide"
    }
   },
   "source": [
    "### Visualise the compressed trajectory and the stops\n",
    "\n",
    "Click on the stop markers to see a pop up with: \n",
    "- User ID\n",
    "- Coordinates of the stop (click to see the location on Google maps)\n",
    "- Arrival time\n",
    "- Departure time"
   ]
  },
  {
   "cell_type": "code",
   "execution_count": null,
   "metadata": {
    "scrolled": true,
    "slideshow": {
     "slide_type": "subslide"
    }
   },
   "outputs": [],
   "source": [
    "map_f = user1_scf_tdf.plot_trajectory(max_points=1000, hex_color=-1, start_end_markers=False)\n",
    "user1_scf_tdf.plot_stops(map_f=map_f, hex_color=-1)"
   ]
  },
  {
   "cell_type": "markdown",
   "metadata": {
    "slideshow": {
     "slide_type": "subslide"
    }
   },
   "source": [
    "## Stops define <font color=\"blue\">trips</font>\n",
    "Let's take the first trip of the individual using the stops"
   ]
  },
  {
   "cell_type": "code",
   "execution_count": null,
   "metadata": {
    "slideshow": {
     "slide_type": "fragment"
    }
   },
   "outputs": [],
   "source": [
    "user1_scf_tdf.head()"
   ]
  },
  {
   "cell_type": "code",
   "execution_count": null,
   "metadata": {
    "slideshow": {
     "slide_type": "slide"
    }
   },
   "outputs": [],
   "source": [
    "dt1 = user1_scf_tdf.iloc[0].leaving_datetime\n",
    "dt2 = user1_scf_tdf.iloc[1].leaving_datetime\n",
    "dt1, dt2"
   ]
  },
  {
   "cell_type": "code",
   "execution_count": null,
   "metadata": {
    "slideshow": {
     "slide_type": "fragment"
    }
   },
   "outputs": [],
   "source": [
    "# select all points between the first two stops\n",
    "user1_tid1_tdf = user1_tdf[(user1_tdf.datetime >= dt1) \n",
    "                           & (user1_tdf.datetime <= dt2)]\n",
    "user1_tid1_tdf.head()"
   ]
  },
  {
   "cell_type": "code",
   "execution_count": null,
   "metadata": {
    "slideshow": {
     "slide_type": "slide"
    }
   },
   "outputs": [],
   "source": [
    "# plot the trip\n",
    "user1_tid1_map = user1_tid1_tdf.plot_trajectory(zoom=12, weight=5, opacity=0.9, tiles='Stamen Toner', )\n",
    "user1_tid1_map"
   ]
  },
  {
   "cell_type": "markdown",
   "metadata": {
    "slideshow": {
     "slide_type": "subslide"
    }
   },
   "source": [
    "Compute the length of the trip and the distance between origin and destination"
   ]
  },
  {
   "cell_type": "code",
   "execution_count": null,
   "metadata": {
    "slideshow": {
     "slide_type": "fragment"
    }
   },
   "outputs": [],
   "source": [
    "from skmob.utils.gislib import getDistanceByHaversine\n",
    "from skmob.measures.individual import distance_straight_line\n",
    "# take origin and destination of the trip\n",
    "start_loc = user1_tid1_tdf.iloc[0][['lat', 'lng']]\n",
    "end_loc = user1_tid1_tdf.iloc[-1][['lat', 'lng']]\n",
    "# compute distance between origin and destination\n",
    "print(\"distance:\", getDistanceByHaversine(end_loc, start_loc))"
   ]
  },
  {
   "cell_type": "code",
   "execution_count": null,
   "metadata": {
    "slideshow": {
     "slide_type": "fragment"
    }
   },
   "outputs": [],
   "source": [
    "distance_straight_line(user1_tid1_tdf)"
   ]
  },
  {
   "cell_type": "markdown",
   "metadata": {
    "slideshow": {
     "slide_type": "slide"
    }
   },
   "source": [
    "## Compute some features based on trips"
   ]
  },
  {
   "cell_type": "code",
   "execution_count": null,
   "metadata": {
    "slideshow": {
     "slide_type": "subslide"
    }
   },
   "outputs": [],
   "source": [
    "def number_of_trips(tdf, stop_radius_factor=0.5, minutes_for_a_stop=20.0, spatial_radius_km=0.2):\n",
    "    \"\"\"\n",
    "    Compute the number of trips for each object.\n",
    "    \"\"\"\n",
    "    # detect the stops for each individual\n",
    "    stdf = detection.stops(tdf, stop_radius_factor=stop_radius_factor, \n",
    "                             minutes_for_a_stop=minutes_for_a_stop, \n",
    "                           spatial_radius_km=spatial_radius_km, leaving_time=True)\n",
    "    return stdf.groupby('uid').apply(lambda user_stdf: len(user_stdf)).reset_index().rename(columns={0: 'n_trips'})"
   ]
  },
  {
   "cell_type": "code",
   "execution_count": null,
   "metadata": {
    "slideshow": {
     "slide_type": "fragment"
    }
   },
   "outputs": [],
   "source": [
    "number_of_trips(tdf)"
   ]
  },
  {
   "cell_type": "code",
   "execution_count": null,
   "metadata": {
    "slideshow": {
     "slide_type": "subslide"
    }
   },
   "outputs": [],
   "source": [
    "def number_of_evening_trips(tdf, stop_radius_factor=0.5, minutes_for_a_stop=20.0, \n",
    "                                   spatial_radius_km=0.2):\n",
    "    \"\"\"\n",
    "    Number of subtrajectories that end in the evening.\n",
    "    \"\"\"\n",
    "    def get_evening_trips(user_stdf, evening_time=['16:00', '20:00']):\n",
    "        start_evening, end_evening = evening_time\n",
    "        return len(user_stdf.set_index('leaving_datetime').between_time(start_evening, \n",
    "                                                                end_evening))\n",
    "    stdf = detection.stops(tdf, stop_radius_factor=stop_radius_factor, \n",
    "                             minutes_for_a_stop=minutes_for_a_stop, \n",
    "                           spatial_radius_km=spatial_radius_km, \n",
    "                             leaving_time=True)\n",
    "    return stdf.groupby('uid').apply(lambda user_stdf: get_evening_trips(user_stdf)).reset_index().rename(columns={0: 'evening_trips'})"
   ]
  },
  {
   "cell_type": "code",
   "execution_count": null,
   "metadata": {
    "slideshow": {
     "slide_type": "fragment"
    }
   },
   "outputs": [],
   "source": [
    "number_of_evening_trips(tdf)"
   ]
  },
  {
   "cell_type": "code",
   "execution_count": null,
   "metadata": {
    "slideshow": {
     "slide_type": "subslide"
    }
   },
   "outputs": [],
   "source": [
    "def average_stops_per_day(tdf, stop_radius_factor=0.5, minutes_for_a_stop=20.0, \n",
    "                                   spatial_radius_km=0.2):\n",
    "    \"\"\"\n",
    "    Average number of stops per day\n",
    "    \"\"\"\n",
    "    def get_stops_per_day(user_stdf):\n",
    "        return user_stdf.groupby(user_stdf.leaving_datetime.dt.floor('d')).size().reset_index(name='count').mean()\n",
    "\n",
    "    stdf = detection.stops(tdf, stop_radius_factor=stop_radius_factor, \n",
    "                             minutes_for_a_stop=minutes_for_a_stop, \n",
    "                           spatial_radius_km=spatial_radius_km, \n",
    "                             leaving_time=True)\n",
    "    return stdf.groupby('uid').apply(lambda user_stdf: get_stops_per_day(user_stdf)).reset_index().rename(columns={'count': 'avg_stops_per_day'})             "
   ]
  },
  {
   "cell_type": "code",
   "execution_count": null,
   "metadata": {
    "slideshow": {
     "slide_type": "fragment"
    }
   },
   "outputs": [],
   "source": [
    "average_stops_per_day(tdf)"
   ]
  },
  {
   "cell_type": "markdown",
   "metadata": {
    "slideshow": {
     "slide_type": "subslide"
    }
   },
   "source": [
    "## Find clusters of stops\n",
    "- stops are clustered by spatial proximity using DBSCAN\n",
    "\n",
    "- a new column `cluster` is added with cluster ID (`int`)\n",
    "\n",
    "- 0 is the most visited, 1 the second most visited,  etc."
   ]
  },
  {
   "cell_type": "code",
   "execution_count": null,
   "metadata": {
    "slideshow": {
     "slide_type": "fragment"
    }
   },
   "outputs": [],
   "source": [
    "from skmob.preprocessing import clustering\n",
    "user1_clscf_tdf = clustering.cluster(user1_scf_tdf)\n",
    "user1_clscf_tdf.head()"
   ]
  },
  {
   "cell_type": "code",
   "execution_count": null,
   "metadata": {
    "slideshow": {
     "slide_type": "subslide"
    }
   },
   "outputs": [],
   "source": [
    "user1_clscf_tdf.parameters"
   ]
  },
  {
   "cell_type": "markdown",
   "metadata": {
    "slideshow": {
     "slide_type": "subslide"
    }
   },
   "source": [
    "## Visualise clustered stops: \n",
    "- stops in the same clusters have the same color."
   ]
  },
  {
   "cell_type": "code",
   "execution_count": null,
   "metadata": {
    "scrolled": true,
    "slideshow": {
     "slide_type": "fragment"
    }
   },
   "outputs": [],
   "source": [
    "map_f = user1_clscf_tdf.plot_trajectory(start_end_markers=False, hex_color='black')\n",
    "user1_clscf_tdf.plot_stops(map_f=map_f)"
   ]
  },
  {
   "cell_type": "code",
   "execution_count": null,
   "metadata": {},
   "outputs": [],
   "source": []
  },
  {
   "cell_type": "markdown",
   "metadata": {
    "slideshow": {
     "slide_type": "slide"
    }
   },
   "source": [
    "## Social Media: the <font color=\"blue\">Brightkite</font> data set\n",
    "[Brightkite](https://snap.stanford.edu/data/loc-brightkite.html) was a location-based social networking service provider where users shared their locations by checking-in in the period Apr 2008 - Oct 2010: \n",
    "- 58,228 users\n",
    "- 4,491,143 checkins"
   ]
  },
  {
   "cell_type": "code",
   "execution_count": null,
   "metadata": {
    "slideshow": {
     "slide_type": "subslide"
    }
   },
   "outputs": [],
   "source": [
    "# load the pandas DataFrame\n",
    "url = \"https://snap.stanford.edu/data/loc-brightkite_totalCheckins.txt.gz\"\n",
    "df = pd.read_csv(url, sep='\\t', header=0, nrows=10000, names=['user', 'check-in_time', 'latitude', 'longitude', 'location id'])\n",
    "\n",
    "# convert it to a TrajDataFrame\n",
    "btdf = skmob.TrajDataFrame(df, latitude='latitude', longitude='longitude', datetime='check-in_time', user_id='user')\n",
    "\n",
    "print(btdf.shape, len(btdf['uid'].unique()))\n",
    "btdf.head()"
   ]
  },
  {
   "cell_type": "code",
   "execution_count": null,
   "metadata": {
    "slideshow": {
     "slide_type": "subslide"
    }
   },
   "outputs": [],
   "source": [
    "btdf['leaving_datetime'] = btdf.datetime\n",
    "# take the points of a single user\n",
    "user0_btdf = btdf[btdf.uid == btdf.uid.unique()[0]]\n",
    "# take a sample of 200 random points\n",
    "user0_btdf_sample = user0_btdf.sample(200)\n",
    "# plot the stops of the user\n",
    "user0_map = user0_btdf_sample.plot_stops(zoom=3)\n",
    "# plot the trajectory of the user\n",
    "user0_btdf_sample.plot_trajectory(map_f=user0_map)"
   ]
  },
  {
   "cell_type": "markdown",
   "metadata": {
    "slideshow": {
     "slide_type": "subslide"
    }
   },
   "source": [
    "## Filtering\n",
    "Filter out points with speed higher than max_speed km/h from the previous point."
   ]
  },
  {
   "cell_type": "code",
   "execution_count": null,
   "metadata": {
    "slideshow": {
     "slide_type": "fragment"
    }
   },
   "outputs": [],
   "source": [
    "f_btdf = filtering.filter(btdf.drop('leaving_datetime', axis=1), max_speed_kmh=500.)\n",
    "f_btdf.head(3)"
   ]
  },
  {
   "cell_type": "code",
   "execution_count": null,
   "metadata": {
    "slideshow": {
     "slide_type": "fragment"
    }
   },
   "outputs": [],
   "source": [
    "print('Points of the raw trajectory: %s.'%len(btdf))\n",
    "print('Points of the filtered trajectory: %s.'%len(f_btdf))"
   ]
  },
  {
   "cell_type": "markdown",
   "metadata": {
    "slideshow": {
     "slide_type": "subslide"
    }
   },
   "source": [
    "## Compression\n",
    "Reduce trajectory's number of points, preserving the structure."
   ]
  },
  {
   "cell_type": "code",
   "execution_count": null,
   "metadata": {
    "slideshow": {
     "slide_type": "fragment"
    }
   },
   "outputs": [],
   "source": [
    "cf_btdf = compression.compress(f_btdf, spatial_radius_km=0.5)\n",
    "cf_btdf.head()"
   ]
  },
  {
   "cell_type": "code",
   "execution_count": null,
   "metadata": {
    "slideshow": {
     "slide_type": "fragment"
    }
   },
   "outputs": [],
   "source": [
    "print('Points of the filtered trajectory: %s.'%len(f_btdf))\n",
    "print('Points of the compressed trajectory: %s.'%len(cf_btdf))"
   ]
  },
  {
   "cell_type": "markdown",
   "metadata": {
    "slideshow": {
     "slide_type": "subslide"
    }
   },
   "source": [
    "### Visualise the filtered and compressed trajectories\n",
    "Show the first 10000 points of the filtered trajectory."
   ]
  },
  {
   "cell_type": "code",
   "execution_count": null,
   "metadata": {
    "slideshow": {
     "slide_type": "fragment"
    }
   },
   "outputs": [],
   "source": [
    "user, imin, imax = 1, 0, 100\n",
    "dt_start = f_btdf[f_btdf['uid'] == user]['datetime'].min()\n",
    "dt_end = f_btdf[f_btdf['uid'] == user]['datetime'].max()\n",
    "\n",
    "filtered_tdf = f_btdf[(f_btdf['datetime'] >= dt_start) \\\n",
    "                 & (f_btdf['datetime'] <= dt_end) \\\n",
    "                 & (f_btdf['uid'] == user)]\n",
    "\n",
    "compressed_tdf = cf_btdf[(cf_btdf['datetime'] >= dt_start) \\\n",
    "                  & (cf_btdf['datetime'] <= dt_end) \\\n",
    "                  & (cf_btdf['uid'] == user)]"
   ]
  },
  {
   "cell_type": "code",
   "execution_count": null,
   "metadata": {
    "slideshow": {
     "slide_type": "subslide"
    }
   },
   "outputs": [],
   "source": [
    "print(len(filtered_tdf), len(compressed_tdf))\n",
    "filtered_tdf.head()"
   ]
  },
  {
   "cell_type": "code",
   "execution_count": null,
   "metadata": {
    "scrolled": true,
    "slideshow": {
     "slide_type": "subslide"
    }
   },
   "outputs": [],
   "source": [
    "map_f = filtered_tdf.plot_trajectory(zoom=9, max_points=None, weight=5, hex_color='black', opacity=0.5, start_end_markers=False)\n",
    "compressed_tdf.plot_trajectory(map_f=map_f, max_points=None, hex_color='red', start_end_markers=False)"
   ]
  },
  {
   "cell_type": "code",
   "execution_count": null,
   "metadata": {
    "slideshow": {
     "slide_type": "subslide"
    }
   },
   "outputs": [],
   "source": [
    "from skmob.tessellation import tilers\n",
    "from skmob.utils import plot\n",
    "sm_tess = tilers.tiler.get('squared', base_shape='San Mateo, USA', meters=5000)"
   ]
  },
  {
   "cell_type": "code",
   "execution_count": null,
   "metadata": {
    "slideshow": {
     "slide_type": "fragment"
    }
   },
   "outputs": [],
   "source": [
    "map_filtered_tdf = filtered_tdf.mapping(sm_tess, remove_na=True)\n",
    "map_compressed_tdf = compressed_tdf.mapping(sm_tess, remove_na=True)\n",
    "map_compressed_tdf.head()"
   ]
  },
  {
   "cell_type": "code",
   "execution_count": null,
   "metadata": {
    "scrolled": true,
    "slideshow": {
     "slide_type": "subslide"
    }
   },
   "outputs": [],
   "source": [
    "map_f = plot.plot_gdf(sm_tess, zoom=9, style_func_args={'color':'gray', 'fillColor':'gray', 'opacity':0.2})\n",
    "map_f = map_filtered_tdf.plot_trajectory(map_f=map_f, max_points=None, weight=5, hex_color='black', opacity=0.5)\n",
    "map_compressed_tdf.plot_trajectory(map_f=map_f, max_points=None, hex_color='red')"
   ]
  },
  {
   "cell_type": "markdown",
   "metadata": {
    "slideshow": {
     "slide_type": "subslide"
    }
   },
   "source": [
    "## Split trajectory by day"
   ]
  },
  {
   "cell_type": "code",
   "execution_count": null,
   "metadata": {
    "slideshow": {
     "slide_type": "fragment"
    }
   },
   "outputs": [],
   "source": [
    "from skmob.utils import utils\n",
    "groups = utils.group_df_by_time(map_compressed_tdf, \n",
    "                        offset_value=3, offset_unit='hours', add_starting_location=True)"
   ]
  },
  {
   "cell_type": "code",
   "execution_count": null,
   "metadata": {
    "slideshow": {
     "slide_type": "subslide"
    }
   },
   "outputs": [],
   "source": [
    "map_f = groups[0].plot_trajectory(start_end_markers=False, hex_color='red', weight=3)\n",
    "map_f = groups[1].plot_trajectory(map_f=map_f, start_end_markers=False, hex_color='blue', weight=3)\n",
    "map_f = groups[5].plot_trajectory(map_f=map_f, start_end_markers=False, hex_color='green', weight=3)\n",
    "map_f"
   ]
  },
  {
   "cell_type": "code",
   "execution_count": null,
   "metadata": {},
   "outputs": [],
   "source": []
  }
 ],
 "metadata": {
  "anaconda-cloud": {},
  "celltoolbar": "Slideshow",
  "hide_input": false,
  "kernelspec": {
   "display_name": "Python [conda env:skmobenv]",
   "language": "python",
   "name": "skmobenv"
  },
  "language_info": {
   "codemirror_mode": {
    "name": "ipython",
    "version": 3
   },
   "file_extension": ".py",
   "mimetype": "text/x-python",
   "name": "python",
   "nbconvert_exporter": "python",
   "pygments_lexer": "ipython3",
   "version": "3.7.6"
  },
  "latex_envs": {
   "LaTeX_envs_menu_present": true,
   "autoclose": false,
   "autocomplete": true,
   "bibliofile": "biblio.bib",
   "cite_by": "apalike",
   "current_citInitial": 1,
   "eqLabelWithNumbers": true,
   "eqNumInitial": 1,
   "hotkeys": {
    "equation": "Ctrl-E",
    "itemize": "Ctrl-I"
   },
   "labels_anchors": false,
   "latex_user_defs": false,
   "report_style_numbering": true,
   "user_envs_cfg": false
  }
 },
 "nbformat": 4,
 "nbformat_minor": 1
}
